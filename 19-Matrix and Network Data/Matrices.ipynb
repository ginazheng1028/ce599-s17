{
 "cells": [
  {
   "cell_type": "markdown",
   "metadata": {},
   "source": [
    "## Matrices\n",
    "\n",
    "Matrices are very common in transportation.  Two commont types of matrix data are: \n",
    "\n",
    "trip tables - matrices showing the number of trips between each zone pair\n",
    "\n",
    "skims - matrices showing the travel time and cost between each zone pair\n"
   ]
  },
  {
   "cell_type": "code",
   "execution_count": 1,
   "metadata": {
    "collapsed": false
   },
   "outputs": [
    {
     "data": {
      "text/plain": [
       "[[1, 2, 3], [4, 5, 6], [7, 8, 9]]"
      ]
     },
     "execution_count": 1,
     "metadata": {},
     "output_type": "execute_result"
    }
   ],
   "source": [
    "# you can represent matrices in python as two dimensional lists\n",
    "m = [[1,2,3],[4,5,6],[7,8,9]]\n",
    "m"
   ]
  },
  {
   "cell_type": "code",
   "execution_count": 2,
   "metadata": {
    "collapsed": false
   },
   "outputs": [
    {
     "data": {
      "text/plain": [
       "[[-1, 2, 3], [4, 5, 999], [7, 8, 9]]"
      ]
     },
     "execution_count": 2,
     "metadata": {},
     "output_type": "execute_result"
    }
   ],
   "source": [
    "# change the values by referring to the appropriate indices\n",
    "m[0][0] = -1\n",
    "m[1][2] = 999\n",
    "m"
   ]
  },
  {
   "cell_type": "markdown",
   "metadata": {},
   "source": [
    "### Numpy matrices\n",
    "\n",
    "This is fine, but can be slow if you're working with big matrices.  For those, it is nice to use numpy, which operates way faster.  Their quickstart tutorial offers a good intro: \n",
    "\n",
    "https://docs.scipy.org/doc/numpy-dev/user/quickstart.html"
   ]
  },
  {
   "cell_type": "code",
   "execution_count": 3,
   "metadata": {
    "collapsed": false
   },
   "outputs": [
    {
     "data": {
      "text/plain": [
       "array([[1, 2, 3],\n",
       "       [4, 5, 6],\n",
       "       [7, 8, 9]])"
      ]
     },
     "execution_count": 3,
     "metadata": {},
     "output_type": "execute_result"
    }
   ],
   "source": [
    "import numpy as np\n",
    "m = np.array([[1,2,3],[4,5,6],[7,8,9]])\n",
    "m"
   ]
  },
  {
   "cell_type": "code",
   "execution_count": 4,
   "metadata": {
    "collapsed": false
   },
   "outputs": [
    {
     "data": {
      "text/plain": [
       "array([[ -1,   2,   3],\n",
       "       [  4,   5, 999],\n",
       "       [  7,   8,   9]])"
      ]
     },
     "execution_count": 4,
     "metadata": {},
     "output_type": "execute_result"
    }
   ],
   "source": [
    "# change the values by referring to the appropriate indices\n",
    "m[0][0] = -1\n",
    "m[1][2] = 999\n",
    "m"
   ]
  },
  {
   "cell_type": "code",
   "execution_count": 5,
   "metadata": {
    "collapsed": false
   },
   "outputs": [
    {
     "data": {
      "text/plain": [
       "(3, 3)"
      ]
     },
     "execution_count": 5,
     "metadata": {},
     "output_type": "execute_result"
    }
   ],
   "source": [
    "# Since an array is an object, it comes with some extra data \n",
    "m.shape"
   ]
  },
  {
   "cell_type": "code",
   "execution_count": 6,
   "metadata": {
    "collapsed": false
   },
   "outputs": [
    {
     "data": {
      "text/plain": [
       "999"
      ]
     },
     "execution_count": 6,
     "metadata": {},
     "output_type": "execute_result"
    }
   ],
   "source": [
    "# and some methods\n",
    "m.max()"
   ]
  },
  {
   "cell_type": "code",
   "execution_count": 7,
   "metadata": {
    "collapsed": false
   },
   "outputs": [
    {
     "data": {
      "text/plain": [
       "-1"
      ]
     },
     "execution_count": 7,
     "metadata": {},
     "output_type": "execute_result"
    }
   ],
   "source": [
    "m.min()"
   ]
  },
  {
   "cell_type": "markdown",
   "metadata": {},
   "source": [
    "\n",
    "\n",
    "### OMX for matrix i/o\n",
    "\n",
    "For saving groups of matrices to disk, OMX is a useful package.  Intro is here: \n",
    "\n",
    "https://github.com/osPlanning/omx/wiki\n",
    "\n",
    "Python API is here: \n",
    "\n",
    "https://github.com/osPlanning/omx-python\n",
    "\n",
    "Note that we sometimes want row and column indices that are non-sequential integers--the label of the TAZ rather than just a number 1 through N.  I've put an example matrix in the data folder for this lesson.  If you want to look at the contents, you can install the viewer, available on the wiki.  \n"
   ]
  },
  {
   "cell_type": "markdown",
   "metadata": {},
   "source": [
    "### Homework\n",
    "\n",
    "The example is a skim matrix showing different components of travel time between each TAZ pair.  The IVT matrix is for in-vehicle time (as opposed to walking and waiting time which are out-of-vehicle).  Notice that the values on the diagonal are all zeros.  This is the sort of thing that can cause divide by zero errors later on.  Your job is to read the matrix in, replace the zeros on the diagonals with ones, and save the matrix again.  \n",
    "\n",
    "To do this, you will need to install the OMX package and review their quick start sample code to see what to do.  This is good practice in figuring stuff out from the types of resources that may be avaiable, and you should have the skills at this point in the course to do so.\n"
   ]
  },
  {
   "cell_type": "code",
   "execution_count": 8,
   "metadata": {
    "collapsed": false
   },
   "outputs": [
    {
     "name": "stdout",
     "output_type": "stream",
     "text": [
      "/Users/zhengjing/Documents/ce599-s17 gina/19-Materix and Network Data/data/example.omx\n",
      "Shape: (485, 485)\n",
      "Number of tables: 8\n",
      "Table names: ['FARE', 'IVT', 'IVTBUS', 'IVTRAIL', 'IVTTRAM', 'OWT', 'TRANSFERS', 'TWT']\n"
     ]
    }
   ],
   "source": [
    "import openmatrix as omx\n",
    "import numpy as np\n",
    "\n",
    "\n",
    "print('/Users/zhengjing/Documents/ce599-s17 gina/19-Materix and Network Data/data/example.omx')\n",
    "myfile = omx.open_file('data/example.omx')\n",
    "\n",
    "print ('Shape:', myfile.shape())                  \n",
    "print ('Number of tables:', len(myfile))         \n",
    "print ('Table names:', myfile.list_matrices()) \n"
   ]
  },
  {
   "cell_type": "code",
   "execution_count": 9,
   "metadata": {
    "collapsed": false
   },
   "outputs": [
    {
     "data": {
      "text/plain": [
       "array([[  0.00000000e+00,   4.65000000e+00,   1.02632127e+01, ...,\n",
       "          9.99999000e+05,   9.99999000e+05,   9.99999000e+05],\n",
       "       [  2.96974854e+01,   0.00000000e+00,   5.36321275e+00, ...,\n",
       "          9.99999000e+05,   9.99999000e+05,   9.99999000e+05],\n",
       "       [  2.32596530e+01,   2.83596530e+01,   0.00000000e+00, ...,\n",
       "          9.99999000e+05,   9.99999000e+05,   9.99999000e+05],\n",
       "       ..., \n",
       "       [  9.99999000e+05,   9.99999000e+05,   9.99999000e+05, ...,\n",
       "          0.00000000e+00,   4.26666667e+00,   9.16666667e+00],\n",
       "       [  9.99999000e+05,   9.99999000e+05,   9.99999000e+05, ...,\n",
       "          3.02666667e+01,   0.00000000e+00,   4.40000000e+00],\n",
       "       [  9.99999000e+05,   9.99999000e+05,   9.99999000e+05, ...,\n",
       "          2.51666667e+01,   2.94333333e+01,   0.00000000e+00]])"
      ]
     },
     "execution_count": 9,
     "metadata": {},
     "output_type": "execute_result"
    }
   ],
   "source": [
    "IVT=myfile['IVT']\n",
    "IVT=np.array(IVT)\n",
    "IVT"
   ]
  },
  {
   "cell_type": "code",
   "execution_count": 10,
   "metadata": {
    "collapsed": false
   },
   "outputs": [
    {
     "data": {
      "text/plain": [
       "485"
      ]
     },
     "execution_count": 10,
     "metadata": {},
     "output_type": "execute_result"
    }
   ],
   "source": [
    "len (IVT)"
   ]
  },
  {
   "cell_type": "code",
   "execution_count": 11,
   "metadata": {
    "collapsed": false
   },
   "outputs": [],
   "source": [
    "i=0\n",
    "j=0\n",
    "\n",
    "while i <= len(IVT) -1: \n",
    "    IVT[i,i]=1\n",
    "    i=i+1\n",
    "    j=j+1"
   ]
  },
  {
   "cell_type": "code",
   "execution_count": 12,
   "metadata": {
    "collapsed": false
   },
   "outputs": [
    {
     "data": {
      "text/plain": [
       "1.0"
      ]
     },
     "execution_count": 12,
     "metadata": {},
     "output_type": "execute_result"
    }
   ],
   "source": [
    "IVT[0,0]"
   ]
  },
  {
   "cell_type": "code",
   "execution_count": 13,
   "metadata": {
    "collapsed": false
   },
   "outputs": [
    {
     "data": {
      "text/plain": [
       "1.0"
      ]
     },
     "execution_count": 13,
     "metadata": {},
     "output_type": "execute_result"
    }
   ],
   "source": [
    "IVT [484,484]"
   ]
  },
  {
   "cell_type": "code",
   "execution_count": 14,
   "metadata": {
    "collapsed": false
   },
   "outputs": [
    {
     "data": {
      "text/plain": [
       "array([[  1.00000000e+00,   4.65000000e+00,   1.02632127e+01, ...,\n",
       "          9.99999000e+05,   9.99999000e+05,   9.99999000e+05],\n",
       "       [  2.96974854e+01,   1.00000000e+00,   5.36321275e+00, ...,\n",
       "          9.99999000e+05,   9.99999000e+05,   9.99999000e+05],\n",
       "       [  2.32596530e+01,   2.83596530e+01,   1.00000000e+00, ...,\n",
       "          9.99999000e+05,   9.99999000e+05,   9.99999000e+05],\n",
       "       ..., \n",
       "       [  9.99999000e+05,   9.99999000e+05,   9.99999000e+05, ...,\n",
       "          1.00000000e+00,   4.26666667e+00,   9.16666667e+00],\n",
       "       [  9.99999000e+05,   9.99999000e+05,   9.99999000e+05, ...,\n",
       "          3.02666667e+01,   1.00000000e+00,   4.40000000e+00],\n",
       "       [  9.99999000e+05,   9.99999000e+05,   9.99999000e+05, ...,\n",
       "          2.51666667e+01,   2.94333333e+01,   1.00000000e+00]])"
      ]
     },
     "execution_count": 14,
     "metadata": {},
     "output_type": "execute_result"
    }
   ],
   "source": [
    "IVT"
   ]
  },
  {
   "cell_type": "code",
   "execution_count": 21,
   "metadata": {
    "collapsed": false
   },
   "outputs": [],
   "source": [
    "outfile=omx.open_file('/Users/zhengjing/Documents/ce599-s17 gina/19-Matrix and Network Data/data/output.omx')\n"
   ]
  },
  {
   "cell_type": "code",
   "execution_count": 26,
   "metadata": {
    "collapsed": false
   },
   "outputs": [
    {
     "data": {
      "text/plain": [
       "array([[False,  True,  True, ...,  True,  True,  True],\n",
       "       [ True, False,  True, ...,  True,  True,  True],\n",
       "       [ True,  True, False, ...,  True,  True,  True],\n",
       "       ..., \n",
       "       [ True,  True,  True, ..., False,  True,  True],\n",
       "       [ True,  True,  True, ...,  True, False,  True],\n",
       "       [ True,  True,  True, ...,  True,  True, False]], dtype=bool)"
      ]
     },
     "execution_count": 26,
     "metadata": {},
     "output_type": "execute_result"
    }
   ],
   "source": [
    "outfile['IVT']==IVT"
   ]
  },
  {
   "cell_type": "code",
   "execution_count": null,
   "metadata": {
    "collapsed": true
   },
   "outputs": [],
   "source": []
  }
 ],
 "metadata": {
  "anaconda-cloud": {},
  "kernelspec": {
   "display_name": "Python [conda root]",
   "language": "python",
   "name": "conda-root-py"
  },
  "language_info": {
   "codemirror_mode": {
    "name": "ipython",
    "version": 3
   },
   "file_extension": ".py",
   "mimetype": "text/x-python",
   "name": "python",
   "nbconvert_exporter": "python",
   "pygments_lexer": "ipython3",
   "version": "3.5.2"
  }
 },
 "nbformat": 4,
 "nbformat_minor": 1
}
