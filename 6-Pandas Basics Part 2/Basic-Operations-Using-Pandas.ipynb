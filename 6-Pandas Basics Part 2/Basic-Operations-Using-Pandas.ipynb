{
 "cells": [
  {
   "cell_type": "markdown",
   "metadata": {},
   "source": [
    "# More Basics of Pandas"
   ]
  },
  {
   "cell_type": "markdown",
   "metadata": {},
   "source": [
    "Last session we introduced Pandas quickly. Now we review the basics of using Pandas, with a more interactive workflow to solidify understanding and facility with this powerful Python toolkit."
   ]
  },
  {
   "cell_type": "markdown",
   "metadata": {},
   "source": [
    "## Reviewing Pandas Basics"
   ]
  },
  {
   "cell_type": "code",
   "execution_count": 1,
   "metadata": {
    "collapsed": false
   },
   "outputs": [],
   "source": [
    "from pandas import DataFrame\n",
    "import pandas as pd"
   ]
  },
  {
   "cell_type": "code",
   "execution_count": 59,
   "metadata": {
    "collapsed": false
   },
   "outputs": [],
   "source": [
    "import pandas as pd\n",
    "df = pd.read_csv('DEC_10_SF1_P1_with_ann.csv')"
   ]
  },
  {
   "cell_type": "markdown",
   "metadata": {},
   "source": [
    "### Basics of indexing in Pandas\n",
    "\n",
    "The first use of indexing is to use a slice, just like we have done with other Python objects. Below we slice the first 5 index values of the first dimension of the dataframe."
   ]
  },
  {
   "cell_type": "code",
   "execution_count": 3,
   "metadata": {
    "collapsed": false
   },
   "outputs": [
    {
     "data": {
      "text/html": [
       "<div>\n",
       "<table border=\"1\" class=\"dataframe\">\n",
       "  <thead>\n",
       "    <tr style=\"text-align: right;\">\n",
       "      <th></th>\n",
       "      <th>Id</th>\n",
       "      <th>Id2</th>\n",
       "      <th>Geography</th>\n",
       "      <th>Population</th>\n",
       "    </tr>\n",
       "  </thead>\n",
       "  <tbody>\n",
       "    <tr>\n",
       "      <th>0</th>\n",
       "      <td>1400000US21001970100</td>\n",
       "      <td>21001970100</td>\n",
       "      <td>Census Tract 9701, Adair County, Kentucky</td>\n",
       "      <td>1727</td>\n",
       "    </tr>\n",
       "    <tr>\n",
       "      <th>1</th>\n",
       "      <td>1400000US21001970200</td>\n",
       "      <td>21001970200</td>\n",
       "      <td>Census Tract 9702, Adair County, Kentucky</td>\n",
       "      <td>1722</td>\n",
       "    </tr>\n",
       "    <tr>\n",
       "      <th>2</th>\n",
       "      <td>1400000US21001970300</td>\n",
       "      <td>21001970300</td>\n",
       "      <td>Census Tract 9703, Adair County, Kentucky</td>\n",
       "      <td>3016</td>\n",
       "    </tr>\n",
       "    <tr>\n",
       "      <th>3</th>\n",
       "      <td>1400000US21001970401</td>\n",
       "      <td>21001970401</td>\n",
       "      <td>Census Tract 9704.01, Adair County, Kentucky</td>\n",
       "      <td>4070</td>\n",
       "    </tr>\n",
       "    <tr>\n",
       "      <th>4</th>\n",
       "      <td>1400000US21001970402</td>\n",
       "      <td>21001970402</td>\n",
       "      <td>Census Tract 9704.02, Adair County, Kentucky</td>\n",
       "      <td>4261</td>\n",
       "    </tr>\n",
       "  </tbody>\n",
       "</table>\n",
       "</div>"
      ],
      "text/plain": [
       "                     Id          Id2  \\\n",
       "0  1400000US21001970100  21001970100   \n",
       "1  1400000US21001970200  21001970200   \n",
       "2  1400000US21001970300  21001970300   \n",
       "3  1400000US21001970401  21001970401   \n",
       "4  1400000US21001970402  21001970402   \n",
       "\n",
       "                                      Geography  Population  \n",
       "0     Census Tract 9701, Adair County, Kentucky        1727  \n",
       "1     Census Tract 9702, Adair County, Kentucky        1722  \n",
       "2     Census Tract 9703, Adair County, Kentucky        3016  \n",
       "3  Census Tract 9704.01, Adair County, Kentucky        4070  \n",
       "4  Census Tract 9704.02, Adair County, Kentucky        4261  "
      ]
     },
     "execution_count": 3,
     "metadata": {},
     "output_type": "execute_result"
    }
   ],
   "source": [
    "df[:5]"
   ]
  },
  {
   "cell_type": "markdown",
   "metadata": {},
   "source": [
    "The first indexing method is equivalent to usinf the iloc indexing method, which uses the integer based indexing, purely based on the location of the index."
   ]
  },
  {
   "cell_type": "code",
   "execution_count": 4,
   "metadata": {
    "collapsed": false
   },
   "outputs": [
    {
     "data": {
      "text/html": [
       "<div>\n",
       "<table border=\"1\" class=\"dataframe\">\n",
       "  <thead>\n",
       "    <tr style=\"text-align: right;\">\n",
       "      <th></th>\n",
       "      <th>Id</th>\n",
       "      <th>Id2</th>\n",
       "      <th>Geography</th>\n",
       "      <th>Population</th>\n",
       "    </tr>\n",
       "  </thead>\n",
       "  <tbody>\n",
       "    <tr>\n",
       "      <th>0</th>\n",
       "      <td>1400000US21001970100</td>\n",
       "      <td>21001970100</td>\n",
       "      <td>Census Tract 9701, Adair County, Kentucky</td>\n",
       "      <td>1727</td>\n",
       "    </tr>\n",
       "    <tr>\n",
       "      <th>1</th>\n",
       "      <td>1400000US21001970200</td>\n",
       "      <td>21001970200</td>\n",
       "      <td>Census Tract 9702, Adair County, Kentucky</td>\n",
       "      <td>1722</td>\n",
       "    </tr>\n",
       "    <tr>\n",
       "      <th>2</th>\n",
       "      <td>1400000US21001970300</td>\n",
       "      <td>21001970300</td>\n",
       "      <td>Census Tract 9703, Adair County, Kentucky</td>\n",
       "      <td>3016</td>\n",
       "    </tr>\n",
       "    <tr>\n",
       "      <th>3</th>\n",
       "      <td>1400000US21001970401</td>\n",
       "      <td>21001970401</td>\n",
       "      <td>Census Tract 9704.01, Adair County, Kentucky</td>\n",
       "      <td>4070</td>\n",
       "    </tr>\n",
       "    <tr>\n",
       "      <th>4</th>\n",
       "      <td>1400000US21001970402</td>\n",
       "      <td>21001970402</td>\n",
       "      <td>Census Tract 9704.02, Adair County, Kentucky</td>\n",
       "      <td>4261</td>\n",
       "    </tr>\n",
       "  </tbody>\n",
       "</table>\n",
       "</div>"
      ],
      "text/plain": [
       "                     Id          Id2  \\\n",
       "0  1400000US21001970100  21001970100   \n",
       "1  1400000US21001970200  21001970200   \n",
       "2  1400000US21001970300  21001970300   \n",
       "3  1400000US21001970401  21001970401   \n",
       "4  1400000US21001970402  21001970402   \n",
       "\n",
       "                                      Geography  Population  \n",
       "0     Census Tract 9701, Adair County, Kentucky        1727  \n",
       "1     Census Tract 9702, Adair County, Kentucky        1722  \n",
       "2     Census Tract 9703, Adair County, Kentucky        3016  \n",
       "3  Census Tract 9704.01, Adair County, Kentucky        4070  \n",
       "4  Census Tract 9704.02, Adair County, Kentucky        4261  "
      ]
     },
     "execution_count": 4,
     "metadata": {},
     "output_type": "execute_result"
    }
   ],
   "source": [
    "df.iloc[:5]"
   ]
  },
  {
   "cell_type": "code",
   "execution_count": 36,
   "metadata": {
    "collapsed": false
   },
   "outputs": [
    {
     "data": {
      "text/plain": [
       "pandas.core.series.Series"
      ]
     },
     "execution_count": 36,
     "metadata": {},
     "output_type": "execute_result"
    }
   ],
   "source": [
    "s=df.loc[:5,'Geography']\n",
    "type(s)"
   ]
  },
  {
   "cell_type": "code",
   "execution_count": 48,
   "metadata": {
    "collapsed": false
   },
   "outputs": [
    {
     "data": {
      "text/plain": [
       "1115"
      ]
     },
     "execution_count": 48,
     "metadata": {},
     "output_type": "execute_result"
    }
   ],
   "source": [
    "len(df)\n"
   ]
  },
  {
   "cell_type": "code",
   "execution_count": 49,
   "metadata": {
    "collapsed": false
   },
   "outputs": [
    {
     "data": {
      "text/html": [
       "<div>\n",
       "<table border=\"1\" class=\"dataframe\">\n",
       "  <thead>\n",
       "    <tr style=\"text-align: right;\">\n",
       "      <th></th>\n",
       "      <th>Id</th>\n",
       "      <th>Id2</th>\n",
       "      <th>Geography</th>\n",
       "      <th>Population</th>\n",
       "    </tr>\n",
       "  </thead>\n",
       "  <tbody>\n",
       "    <tr>\n",
       "      <th>4</th>\n",
       "      <td>1400000US21001970402</td>\n",
       "      <td>21001970402</td>\n",
       "      <td>Census Tract 9704.02, Adair County, Kentucky</td>\n",
       "      <td>4261</td>\n",
       "    </tr>\n",
       "  </tbody>\n",
       "</table>\n",
       "</div>"
      ],
      "text/plain": [
       "                     Id          Id2  \\\n",
       "4  1400000US21001970402  21001970402   \n",
       "\n",
       "                                      Geography  Population  \n",
       "4  Census Tract 9704.02, Adair County, Kentucky        4261  "
      ]
     },
     "execution_count": 49,
     "metadata": {},
     "output_type": "execute_result"
    }
   ],
   "source": [
    "df[df['Id2']==21001970402]"
   ]
  },
  {
   "cell_type": "code",
   "execution_count": 62,
   "metadata": {
    "collapsed": false
   },
   "outputs": [
    {
     "ename": "KeyError",
     "evalue": "'population'",
     "output_type": "error",
     "traceback": [
      "\u001b[0;31m---------------------------------------------------------------------------\u001b[0m",
      "\u001b[0;31mKeyError\u001b[0m                                  Traceback (most recent call last)",
      "\u001b[0;32m/Users/zhengjing/anaconda/lib/python3.5/site-packages/pandas/indexes/base.py\u001b[0m in \u001b[0;36mget_loc\u001b[0;34m(self, key, method, tolerance)\u001b[0m\n\u001b[1;32m   1944\u001b[0m             \u001b[0;32mtry\u001b[0m\u001b[0;34m:\u001b[0m\u001b[0;34m\u001b[0m\u001b[0m\n\u001b[0;32m-> 1945\u001b[0;31m                 \u001b[0;32mreturn\u001b[0m \u001b[0mself\u001b[0m\u001b[0;34m.\u001b[0m\u001b[0m_engine\u001b[0m\u001b[0;34m.\u001b[0m\u001b[0mget_loc\u001b[0m\u001b[0;34m(\u001b[0m\u001b[0mkey\u001b[0m\u001b[0;34m)\u001b[0m\u001b[0;34m\u001b[0m\u001b[0m\n\u001b[0m\u001b[1;32m   1946\u001b[0m             \u001b[0;32mexcept\u001b[0m \u001b[0mKeyError\u001b[0m\u001b[0;34m:\u001b[0m\u001b[0;34m\u001b[0m\u001b[0m\n",
      "\u001b[0;32mpandas/index.pyx\u001b[0m in \u001b[0;36mpandas.index.IndexEngine.get_loc (pandas/index.c:4154)\u001b[0;34m()\u001b[0m\n",
      "\u001b[0;32mpandas/index.pyx\u001b[0m in \u001b[0;36mpandas.index.IndexEngine.get_loc (pandas/index.c:4018)\u001b[0;34m()\u001b[0m\n",
      "\u001b[0;32mpandas/hashtable.pyx\u001b[0m in \u001b[0;36mpandas.hashtable.PyObjectHashTable.get_item (pandas/hashtable.c:12368)\u001b[0;34m()\u001b[0m\n",
      "\u001b[0;32mpandas/hashtable.pyx\u001b[0m in \u001b[0;36mpandas.hashtable.PyObjectHashTable.get_item (pandas/hashtable.c:12322)\u001b[0;34m()\u001b[0m\n",
      "\u001b[0;31mKeyError\u001b[0m: 'population'",
      "\nDuring handling of the above exception, another exception occurred:\n",
      "\u001b[0;31mKeyError\u001b[0m                                  Traceback (most recent call last)",
      "\u001b[0;32m<ipython-input-62-f37493fb6333>\u001b[0m in \u001b[0;36m<module>\u001b[0;34m()\u001b[0m\n\u001b[0;32m----> 1\u001b[0;31m \u001b[0mdf_short\u001b[0m\u001b[0;34m=\u001b[0m\u001b[0mdf\u001b[0m\u001b[0;34m[\u001b[0m\u001b[0mdf\u001b[0m\u001b[0;34m[\u001b[0m\u001b[0;34m'population'\u001b[0m\u001b[0;34m]\u001b[0m\u001b[0;34m<\u001b[0m\u001b[0;36m200\u001b[0m\u001b[0;34m]\u001b[0m\u001b[0;34m\u001b[0m\u001b[0m\n\u001b[0m\u001b[1;32m      2\u001b[0m \u001b[0mdf_short\u001b[0m\u001b[0;34m\u001b[0m\u001b[0m\n",
      "\u001b[0;32m/Users/zhengjing/anaconda/lib/python3.5/site-packages/pandas/core/frame.py\u001b[0m in \u001b[0;36m__getitem__\u001b[0;34m(self, key)\u001b[0m\n\u001b[1;32m   1995\u001b[0m             \u001b[0;32mreturn\u001b[0m \u001b[0mself\u001b[0m\u001b[0;34m.\u001b[0m\u001b[0m_getitem_multilevel\u001b[0m\u001b[0;34m(\u001b[0m\u001b[0mkey\u001b[0m\u001b[0;34m)\u001b[0m\u001b[0;34m\u001b[0m\u001b[0m\n\u001b[1;32m   1996\u001b[0m         \u001b[0;32melse\u001b[0m\u001b[0;34m:\u001b[0m\u001b[0;34m\u001b[0m\u001b[0m\n\u001b[0;32m-> 1997\u001b[0;31m             \u001b[0;32mreturn\u001b[0m \u001b[0mself\u001b[0m\u001b[0;34m.\u001b[0m\u001b[0m_getitem_column\u001b[0m\u001b[0;34m(\u001b[0m\u001b[0mkey\u001b[0m\u001b[0;34m)\u001b[0m\u001b[0;34m\u001b[0m\u001b[0m\n\u001b[0m\u001b[1;32m   1998\u001b[0m \u001b[0;34m\u001b[0m\u001b[0m\n\u001b[1;32m   1999\u001b[0m     \u001b[0;32mdef\u001b[0m \u001b[0m_getitem_column\u001b[0m\u001b[0;34m(\u001b[0m\u001b[0mself\u001b[0m\u001b[0;34m,\u001b[0m \u001b[0mkey\u001b[0m\u001b[0;34m)\u001b[0m\u001b[0;34m:\u001b[0m\u001b[0;34m\u001b[0m\u001b[0m\n",
      "\u001b[0;32m/Users/zhengjing/anaconda/lib/python3.5/site-packages/pandas/core/frame.py\u001b[0m in \u001b[0;36m_getitem_column\u001b[0;34m(self, key)\u001b[0m\n\u001b[1;32m   2002\u001b[0m         \u001b[0;31m# get column\u001b[0m\u001b[0;34m\u001b[0m\u001b[0;34m\u001b[0m\u001b[0m\n\u001b[1;32m   2003\u001b[0m         \u001b[0;32mif\u001b[0m \u001b[0mself\u001b[0m\u001b[0;34m.\u001b[0m\u001b[0mcolumns\u001b[0m\u001b[0;34m.\u001b[0m\u001b[0mis_unique\u001b[0m\u001b[0;34m:\u001b[0m\u001b[0;34m\u001b[0m\u001b[0m\n\u001b[0;32m-> 2004\u001b[0;31m             \u001b[0;32mreturn\u001b[0m \u001b[0mself\u001b[0m\u001b[0;34m.\u001b[0m\u001b[0m_get_item_cache\u001b[0m\u001b[0;34m(\u001b[0m\u001b[0mkey\u001b[0m\u001b[0;34m)\u001b[0m\u001b[0;34m\u001b[0m\u001b[0m\n\u001b[0m\u001b[1;32m   2005\u001b[0m \u001b[0;34m\u001b[0m\u001b[0m\n\u001b[1;32m   2006\u001b[0m         \u001b[0;31m# duplicate columns & possible reduce dimensionality\u001b[0m\u001b[0;34m\u001b[0m\u001b[0;34m\u001b[0m\u001b[0m\n",
      "\u001b[0;32m/Users/zhengjing/anaconda/lib/python3.5/site-packages/pandas/core/generic.py\u001b[0m in \u001b[0;36m_get_item_cache\u001b[0;34m(self, item)\u001b[0m\n\u001b[1;32m   1348\u001b[0m         \u001b[0mres\u001b[0m \u001b[0;34m=\u001b[0m \u001b[0mcache\u001b[0m\u001b[0;34m.\u001b[0m\u001b[0mget\u001b[0m\u001b[0;34m(\u001b[0m\u001b[0mitem\u001b[0m\u001b[0;34m)\u001b[0m\u001b[0;34m\u001b[0m\u001b[0m\n\u001b[1;32m   1349\u001b[0m         \u001b[0;32mif\u001b[0m \u001b[0mres\u001b[0m \u001b[0;32mis\u001b[0m \u001b[0;32mNone\u001b[0m\u001b[0;34m:\u001b[0m\u001b[0;34m\u001b[0m\u001b[0m\n\u001b[0;32m-> 1350\u001b[0;31m             \u001b[0mvalues\u001b[0m \u001b[0;34m=\u001b[0m \u001b[0mself\u001b[0m\u001b[0;34m.\u001b[0m\u001b[0m_data\u001b[0m\u001b[0;34m.\u001b[0m\u001b[0mget\u001b[0m\u001b[0;34m(\u001b[0m\u001b[0mitem\u001b[0m\u001b[0;34m)\u001b[0m\u001b[0;34m\u001b[0m\u001b[0m\n\u001b[0m\u001b[1;32m   1351\u001b[0m             \u001b[0mres\u001b[0m \u001b[0;34m=\u001b[0m \u001b[0mself\u001b[0m\u001b[0;34m.\u001b[0m\u001b[0m_box_item_values\u001b[0m\u001b[0;34m(\u001b[0m\u001b[0mitem\u001b[0m\u001b[0;34m,\u001b[0m \u001b[0mvalues\u001b[0m\u001b[0;34m)\u001b[0m\u001b[0;34m\u001b[0m\u001b[0m\n\u001b[1;32m   1352\u001b[0m             \u001b[0mcache\u001b[0m\u001b[0;34m[\u001b[0m\u001b[0mitem\u001b[0m\u001b[0;34m]\u001b[0m \u001b[0;34m=\u001b[0m \u001b[0mres\u001b[0m\u001b[0;34m\u001b[0m\u001b[0m\n",
      "\u001b[0;32m/Users/zhengjing/anaconda/lib/python3.5/site-packages/pandas/core/internals.py\u001b[0m in \u001b[0;36mget\u001b[0;34m(self, item, fastpath)\u001b[0m\n\u001b[1;32m   3288\u001b[0m \u001b[0;34m\u001b[0m\u001b[0m\n\u001b[1;32m   3289\u001b[0m             \u001b[0;32mif\u001b[0m \u001b[0;32mnot\u001b[0m \u001b[0misnull\u001b[0m\u001b[0;34m(\u001b[0m\u001b[0mitem\u001b[0m\u001b[0;34m)\u001b[0m\u001b[0;34m:\u001b[0m\u001b[0;34m\u001b[0m\u001b[0m\n\u001b[0;32m-> 3290\u001b[0;31m                 \u001b[0mloc\u001b[0m \u001b[0;34m=\u001b[0m \u001b[0mself\u001b[0m\u001b[0;34m.\u001b[0m\u001b[0mitems\u001b[0m\u001b[0;34m.\u001b[0m\u001b[0mget_loc\u001b[0m\u001b[0;34m(\u001b[0m\u001b[0mitem\u001b[0m\u001b[0;34m)\u001b[0m\u001b[0;34m\u001b[0m\u001b[0m\n\u001b[0m\u001b[1;32m   3291\u001b[0m             \u001b[0;32melse\u001b[0m\u001b[0;34m:\u001b[0m\u001b[0;34m\u001b[0m\u001b[0m\n\u001b[1;32m   3292\u001b[0m                 \u001b[0mindexer\u001b[0m \u001b[0;34m=\u001b[0m \u001b[0mnp\u001b[0m\u001b[0;34m.\u001b[0m\u001b[0marange\u001b[0m\u001b[0;34m(\u001b[0m\u001b[0mlen\u001b[0m\u001b[0;34m(\u001b[0m\u001b[0mself\u001b[0m\u001b[0;34m.\u001b[0m\u001b[0mitems\u001b[0m\u001b[0;34m)\u001b[0m\u001b[0;34m)\u001b[0m\u001b[0;34m[\u001b[0m\u001b[0misnull\u001b[0m\u001b[0;34m(\u001b[0m\u001b[0mself\u001b[0m\u001b[0;34m.\u001b[0m\u001b[0mitems\u001b[0m\u001b[0;34m)\u001b[0m\u001b[0;34m]\u001b[0m\u001b[0;34m\u001b[0m\u001b[0m\n",
      "\u001b[0;32m/Users/zhengjing/anaconda/lib/python3.5/site-packages/pandas/indexes/base.py\u001b[0m in \u001b[0;36mget_loc\u001b[0;34m(self, key, method, tolerance)\u001b[0m\n\u001b[1;32m   1945\u001b[0m                 \u001b[0;32mreturn\u001b[0m \u001b[0mself\u001b[0m\u001b[0;34m.\u001b[0m\u001b[0m_engine\u001b[0m\u001b[0;34m.\u001b[0m\u001b[0mget_loc\u001b[0m\u001b[0;34m(\u001b[0m\u001b[0mkey\u001b[0m\u001b[0;34m)\u001b[0m\u001b[0;34m\u001b[0m\u001b[0m\n\u001b[1;32m   1946\u001b[0m             \u001b[0;32mexcept\u001b[0m \u001b[0mKeyError\u001b[0m\u001b[0;34m:\u001b[0m\u001b[0;34m\u001b[0m\u001b[0m\n\u001b[0;32m-> 1947\u001b[0;31m                 \u001b[0;32mreturn\u001b[0m \u001b[0mself\u001b[0m\u001b[0;34m.\u001b[0m\u001b[0m_engine\u001b[0m\u001b[0;34m.\u001b[0m\u001b[0mget_loc\u001b[0m\u001b[0;34m(\u001b[0m\u001b[0mself\u001b[0m\u001b[0;34m.\u001b[0m\u001b[0m_maybe_cast_indexer\u001b[0m\u001b[0;34m(\u001b[0m\u001b[0mkey\u001b[0m\u001b[0;34m)\u001b[0m\u001b[0;34m)\u001b[0m\u001b[0;34m\u001b[0m\u001b[0m\n\u001b[0m\u001b[1;32m   1948\u001b[0m \u001b[0;34m\u001b[0m\u001b[0m\n\u001b[1;32m   1949\u001b[0m         \u001b[0mindexer\u001b[0m \u001b[0;34m=\u001b[0m \u001b[0mself\u001b[0m\u001b[0;34m.\u001b[0m\u001b[0mget_indexer\u001b[0m\u001b[0;34m(\u001b[0m\u001b[0;34m[\u001b[0m\u001b[0mkey\u001b[0m\u001b[0;34m]\u001b[0m\u001b[0;34m,\u001b[0m \u001b[0mmethod\u001b[0m\u001b[0;34m=\u001b[0m\u001b[0mmethod\u001b[0m\u001b[0;34m,\u001b[0m \u001b[0mtolerance\u001b[0m\u001b[0;34m=\u001b[0m\u001b[0mtolerance\u001b[0m\u001b[0;34m)\u001b[0m\u001b[0;34m\u001b[0m\u001b[0m\n",
      "\u001b[0;32mpandas/index.pyx\u001b[0m in \u001b[0;36mpandas.index.IndexEngine.get_loc (pandas/index.c:4154)\u001b[0;34m()\u001b[0m\n",
      "\u001b[0;32mpandas/index.pyx\u001b[0m in \u001b[0;36mpandas.index.IndexEngine.get_loc (pandas/index.c:4018)\u001b[0;34m()\u001b[0m\n",
      "\u001b[0;32mpandas/hashtable.pyx\u001b[0m in \u001b[0;36mpandas.hashtable.PyObjectHashTable.get_item (pandas/hashtable.c:12368)\u001b[0;34m()\u001b[0m\n",
      "\u001b[0;32mpandas/hashtable.pyx\u001b[0m in \u001b[0;36mpandas.hashtable.PyObjectHashTable.get_item (pandas/hashtable.c:12322)\u001b[0;34m()\u001b[0m\n",
      "\u001b[0;31mKeyError\u001b[0m: 'population'"
     ]
    }
   ],
   "source": [
    "df_short=df[df['population']<200]\n",
    "df_short"
   ]
  },
  {
   "cell_type": "code",
   "execution_count": 14,
   "metadata": {
    "collapsed": false
   },
   "outputs": [
    {
     "data": {
      "text/html": [
       "<div>\n",
       "<table border=\"1\" class=\"dataframe\">\n",
       "  <thead>\n",
       "    <tr style=\"text-align: right;\">\n",
       "      <th></th>\n",
       "      <th>Id</th>\n",
       "      <th>Id2</th>\n",
       "      <th>Geography</th>\n",
       "      <th>Population</th>\n",
       "    </tr>\n",
       "  </thead>\n",
       "  <tbody>\n",
       "    <tr>\n",
       "      <th>1</th>\n",
       "      <td>1400000US21001970200</td>\n",
       "      <td>21001970200</td>\n",
       "      <td>Census Tract 9702, Adair County, Kentucky</td>\n",
       "      <td>1722.0</td>\n",
       "    </tr>\n",
       "    <tr>\n",
       "      <th>2</th>\n",
       "      <td>1400000US21001970300</td>\n",
       "      <td>21001970300</td>\n",
       "      <td>Census Tract 9703, Adair County, Kentucky</td>\n",
       "      <td>3016.0</td>\n",
       "    </tr>\n",
       "    <tr>\n",
       "      <th>3</th>\n",
       "      <td>1400000US21001970401</td>\n",
       "      <td>21001970401</td>\n",
       "      <td>Census Tract 9704.01, Adair County, Kentucky</td>\n",
       "      <td>4070.0</td>\n",
       "    </tr>\n",
       "    <tr>\n",
       "      <th>4</th>\n",
       "      <td>1400000US21001970402</td>\n",
       "      <td>21001970402</td>\n",
       "      <td>Census Tract 9704.02, Adair County, Kentucky</td>\n",
       "      <td>4261.0</td>\n",
       "    </tr>\n",
       "    <tr>\n",
       "      <th>5</th>\n",
       "      <td>1400000US21001970500</td>\n",
       "      <td>21001970500</td>\n",
       "      <td>Census Tract 9705, Adair County, Kentucky</td>\n",
       "      <td>2457.0</td>\n",
       "    </tr>\n",
       "    <tr>\n",
       "      <th>6</th>\n",
       "      <td>1400000US21001970600</td>\n",
       "      <td>21001970600</td>\n",
       "      <td>Census Tract 9706, Adair County, Kentucky</td>\n",
       "      <td>1403.0</td>\n",
       "    </tr>\n",
       "    <tr>\n",
       "      <th>7</th>\n",
       "      <td>1400000US21003920100</td>\n",
       "      <td>21003920100</td>\n",
       "      <td>Census Tract 9201, Allen County, Kentucky</td>\n",
       "      <td>3185.0</td>\n",
       "    </tr>\n",
       "    <tr>\n",
       "      <th>8</th>\n",
       "      <td>1400000US21003920200</td>\n",
       "      <td>21003920200</td>\n",
       "      <td>Census Tract 9202, Allen County, Kentucky</td>\n",
       "      <td>2703.0</td>\n",
       "    </tr>\n",
       "    <tr>\n",
       "      <th>9</th>\n",
       "      <td>1400000US21003920300</td>\n",
       "      <td>21003920300</td>\n",
       "      <td>Census Tract 9203, Allen County, Kentucky</td>\n",
       "      <td>4685.0</td>\n",
       "    </tr>\n",
       "    <tr>\n",
       "      <th>10</th>\n",
       "      <td>1400000US21003920400</td>\n",
       "      <td>21003920400</td>\n",
       "      <td>Census Tract 9204, Allen County, Kentucky</td>\n",
       "      <td>4492.0</td>\n",
       "    </tr>\n",
       "    <tr>\n",
       "      <th>11</th>\n",
       "      <td>1400000US21003920500</td>\n",
       "      <td>21003920500</td>\n",
       "      <td>Census Tract 9205, Allen County, Kentucky</td>\n",
       "      <td>1600.0</td>\n",
       "    </tr>\n",
       "    <tr>\n",
       "      <th>12</th>\n",
       "      <td>1400000US21003920600</td>\n",
       "      <td>21003920600</td>\n",
       "      <td>Census Tract 9206, Allen County, Kentucky</td>\n",
       "      <td>3291.0</td>\n",
       "    </tr>\n",
       "    <tr>\n",
       "      <th>13</th>\n",
       "      <td>1400000US21005950100</td>\n",
       "      <td>21005950100</td>\n",
       "      <td>Census Tract 9501, Anderson County, Kentucky</td>\n",
       "      <td>8164.0</td>\n",
       "    </tr>\n",
       "    <tr>\n",
       "      <th>14</th>\n",
       "      <td>1400000US21005950201</td>\n",
       "      <td>21005950201</td>\n",
       "      <td>Census Tract 9502.01, Anderson County, Kentucky</td>\n",
       "      <td>5372.0</td>\n",
       "    </tr>\n",
       "    <tr>\n",
       "      <th>15</th>\n",
       "      <td>1400000US21005950202</td>\n",
       "      <td>21005950202</td>\n",
       "      <td>Census Tract 9502.02, Anderson County, Kentucky</td>\n",
       "      <td>3651.0</td>\n",
       "    </tr>\n",
       "    <tr>\n",
       "      <th>16</th>\n",
       "      <td>1400000US21005950300</td>\n",
       "      <td>21005950300</td>\n",
       "      <td>Census Tract 9503, Anderson County, Kentucky</td>\n",
       "      <td>1969.0</td>\n",
       "    </tr>\n",
       "    <tr>\n",
       "      <th>17</th>\n",
       "      <td>1400000US21005950400</td>\n",
       "      <td>21005950400</td>\n",
       "      <td>Census Tract 9504, Anderson County, Kentucky</td>\n",
       "      <td>2265.0</td>\n",
       "    </tr>\n",
       "    <tr>\n",
       "      <th>18</th>\n",
       "      <td>1400000US21007950100</td>\n",
       "      <td>21007950100</td>\n",
       "      <td>Census Tract 9501, Ballard County, Kentucky</td>\n",
       "      <td>4259.0</td>\n",
       "    </tr>\n",
       "    <tr>\n",
       "      <th>19</th>\n",
       "      <td>1400000US21007950200</td>\n",
       "      <td>21007950200</td>\n",
       "      <td>Census Tract 9502, Ballard County, Kentucky</td>\n",
       "      <td>1494.0</td>\n",
       "    </tr>\n",
       "    <tr>\n",
       "      <th>20</th>\n",
       "      <td>1400000US21007950300</td>\n",
       "      <td>21007950300</td>\n",
       "      <td>Census Tract 9503, Ballard County, Kentucky</td>\n",
       "      <td>2496.0</td>\n",
       "    </tr>\n",
       "    <tr>\n",
       "      <th>21</th>\n",
       "      <td>1400000US21009950100</td>\n",
       "      <td>21009950100</td>\n",
       "      <td>Census Tract 9501, Barren County, Kentucky</td>\n",
       "      <td>3592.0</td>\n",
       "    </tr>\n",
       "    <tr>\n",
       "      <th>22</th>\n",
       "      <td>1400000US21009950200</td>\n",
       "      <td>21009950200</td>\n",
       "      <td>Census Tract 9502, Barren County, Kentucky</td>\n",
       "      <td>3642.0</td>\n",
       "    </tr>\n",
       "    <tr>\n",
       "      <th>23</th>\n",
       "      <td>1400000US21009950300</td>\n",
       "      <td>21009950300</td>\n",
       "      <td>Census Tract 9503, Barren County, Kentucky</td>\n",
       "      <td>3065.0</td>\n",
       "    </tr>\n",
       "    <tr>\n",
       "      <th>24</th>\n",
       "      <td>1400000US21009950400</td>\n",
       "      <td>21009950400</td>\n",
       "      <td>Census Tract 9504, Barren County, Kentucky</td>\n",
       "      <td>5910.0</td>\n",
       "    </tr>\n",
       "    <tr>\n",
       "      <th>25</th>\n",
       "      <td>1400000US21009950500</td>\n",
       "      <td>21009950500</td>\n",
       "      <td>Census Tract 9505, Barren County, Kentucky</td>\n",
       "      <td>3698.0</td>\n",
       "    </tr>\n",
       "    <tr>\n",
       "      <th>26</th>\n",
       "      <td>1400000US21009950600</td>\n",
       "      <td>21009950600</td>\n",
       "      <td>Census Tract 9506, Barren County, Kentucky</td>\n",
       "      <td>5937.0</td>\n",
       "    </tr>\n",
       "    <tr>\n",
       "      <th>27</th>\n",
       "      <td>1400000US21009950700</td>\n",
       "      <td>21009950700</td>\n",
       "      <td>Census Tract 9507, Barren County, Kentucky</td>\n",
       "      <td>5878.0</td>\n",
       "    </tr>\n",
       "    <tr>\n",
       "      <th>28</th>\n",
       "      <td>1400000US21009950800</td>\n",
       "      <td>21009950800</td>\n",
       "      <td>Census Tract 9508, Barren County, Kentucky</td>\n",
       "      <td>3337.0</td>\n",
       "    </tr>\n",
       "    <tr>\n",
       "      <th>29</th>\n",
       "      <td>1400000US21009950900</td>\n",
       "      <td>21009950900</td>\n",
       "      <td>Census Tract 9509, Barren County, Kentucky</td>\n",
       "      <td>3607.0</td>\n",
       "    </tr>\n",
       "    <tr>\n",
       "      <th>30</th>\n",
       "      <td>1400000US21009951000</td>\n",
       "      <td>21009951000</td>\n",
       "      <td>Census Tract 9510, Barren County, Kentucky</td>\n",
       "      <td>3507.0</td>\n",
       "    </tr>\n",
       "    <tr>\n",
       "      <th>...</th>\n",
       "      <td>...</td>\n",
       "      <td>...</td>\n",
       "      <td>...</td>\n",
       "      <td>...</td>\n",
       "    </tr>\n",
       "    <tr>\n",
       "      <th>1085</th>\n",
       "      <td>1400000US21229930100</td>\n",
       "      <td>21229930100</td>\n",
       "      <td>Census Tract 9301, Washington County, Kentucky</td>\n",
       "      <td>2767.0</td>\n",
       "    </tr>\n",
       "    <tr>\n",
       "      <th>1086</th>\n",
       "      <td>1400000US21229930200</td>\n",
       "      <td>21229930200</td>\n",
       "      <td>Census Tract 9302, Washington County, Kentucky</td>\n",
       "      <td>6705.0</td>\n",
       "    </tr>\n",
       "    <tr>\n",
       "      <th>1087</th>\n",
       "      <td>1400000US21229930300</td>\n",
       "      <td>21229930300</td>\n",
       "      <td>Census Tract 9303, Washington County, Kentucky</td>\n",
       "      <td>2245.0</td>\n",
       "    </tr>\n",
       "    <tr>\n",
       "      <th>1088</th>\n",
       "      <td>1400000US21231920100</td>\n",
       "      <td>21231920100</td>\n",
       "      <td>Census Tract 9201, Wayne County, Kentucky</td>\n",
       "      <td>4666.0</td>\n",
       "    </tr>\n",
       "    <tr>\n",
       "      <th>1089</th>\n",
       "      <td>1400000US21231920200</td>\n",
       "      <td>21231920200</td>\n",
       "      <td>Census Tract 9202, Wayne County, Kentucky</td>\n",
       "      <td>6121.0</td>\n",
       "    </tr>\n",
       "    <tr>\n",
       "      <th>1090</th>\n",
       "      <td>1400000US21231920300</td>\n",
       "      <td>21231920300</td>\n",
       "      <td>Census Tract 9203, Wayne County, Kentucky</td>\n",
       "      <td>4063.0</td>\n",
       "    </tr>\n",
       "    <tr>\n",
       "      <th>1091</th>\n",
       "      <td>1400000US21231920400</td>\n",
       "      <td>21231920400</td>\n",
       "      <td>Census Tract 9204, Wayne County, Kentucky</td>\n",
       "      <td>3309.0</td>\n",
       "    </tr>\n",
       "    <tr>\n",
       "      <th>1092</th>\n",
       "      <td>1400000US21231920700</td>\n",
       "      <td>21231920700</td>\n",
       "      <td>Census Tract 9207, Wayne County, Kentucky</td>\n",
       "      <td>2654.0</td>\n",
       "    </tr>\n",
       "    <tr>\n",
       "      <th>1093</th>\n",
       "      <td>1400000US21233960100</td>\n",
       "      <td>21233960100</td>\n",
       "      <td>Census Tract 9601, Webster County, Kentucky</td>\n",
       "      <td>4584.0</td>\n",
       "    </tr>\n",
       "    <tr>\n",
       "      <th>1094</th>\n",
       "      <td>1400000US21233960200</td>\n",
       "      <td>21233960200</td>\n",
       "      <td>Census Tract 9602, Webster County, Kentucky</td>\n",
       "      <td>2606.0</td>\n",
       "    </tr>\n",
       "    <tr>\n",
       "      <th>1095</th>\n",
       "      <td>1400000US21233960300</td>\n",
       "      <td>21233960300</td>\n",
       "      <td>Census Tract 9603, Webster County, Kentucky</td>\n",
       "      <td>2435.0</td>\n",
       "    </tr>\n",
       "    <tr>\n",
       "      <th>1096</th>\n",
       "      <td>1400000US21233960400</td>\n",
       "      <td>21233960400</td>\n",
       "      <td>Census Tract 9604, Webster County, Kentucky</td>\n",
       "      <td>3996.0</td>\n",
       "    </tr>\n",
       "    <tr>\n",
       "      <th>1097</th>\n",
       "      <td>1400000US21235920100</td>\n",
       "      <td>21235920100</td>\n",
       "      <td>Census Tract 9201, Whitley County, Kentucky</td>\n",
       "      <td>2692.0</td>\n",
       "    </tr>\n",
       "    <tr>\n",
       "      <th>1098</th>\n",
       "      <td>1400000US21235920200</td>\n",
       "      <td>21235920200</td>\n",
       "      <td>Census Tract 9202, Whitley County, Kentucky</td>\n",
       "      <td>2808.0</td>\n",
       "    </tr>\n",
       "    <tr>\n",
       "      <th>1099</th>\n",
       "      <td>1400000US21235920300</td>\n",
       "      <td>21235920300</td>\n",
       "      <td>Census Tract 9203, Whitley County, Kentucky</td>\n",
       "      <td>6189.0</td>\n",
       "    </tr>\n",
       "    <tr>\n",
       "      <th>1100</th>\n",
       "      <td>1400000US21235920400</td>\n",
       "      <td>21235920400</td>\n",
       "      <td>Census Tract 9204, Whitley County, Kentucky</td>\n",
       "      <td>5899.0</td>\n",
       "    </tr>\n",
       "    <tr>\n",
       "      <th>1101</th>\n",
       "      <td>1400000US21235920500</td>\n",
       "      <td>21235920500</td>\n",
       "      <td>Census Tract 9205, Whitley County, Kentucky</td>\n",
       "      <td>6110.0</td>\n",
       "    </tr>\n",
       "    <tr>\n",
       "      <th>1102</th>\n",
       "      <td>1400000US21235920600</td>\n",
       "      <td>21235920600</td>\n",
       "      <td>Census Tract 9206, Whitley County, Kentucky</td>\n",
       "      <td>5230.0</td>\n",
       "    </tr>\n",
       "    <tr>\n",
       "      <th>1103</th>\n",
       "      <td>1400000US21235920700</td>\n",
       "      <td>21235920700</td>\n",
       "      <td>Census Tract 9207, Whitley County, Kentucky</td>\n",
       "      <td>4730.0</td>\n",
       "    </tr>\n",
       "    <tr>\n",
       "      <th>1104</th>\n",
       "      <td>1400000US21235920800</td>\n",
       "      <td>21235920800</td>\n",
       "      <td>Census Tract 9208, Whitley County, Kentucky</td>\n",
       "      <td>1979.0</td>\n",
       "    </tr>\n",
       "    <tr>\n",
       "      <th>1105</th>\n",
       "      <td>1400000US21237930100</td>\n",
       "      <td>21237930100</td>\n",
       "      <td>Census Tract 9301, Wolfe County, Kentucky</td>\n",
       "      <td>3273.0</td>\n",
       "    </tr>\n",
       "    <tr>\n",
       "      <th>1106</th>\n",
       "      <td>1400000US21237930200</td>\n",
       "      <td>21237930200</td>\n",
       "      <td>Census Tract 9302, Wolfe County, Kentucky</td>\n",
       "      <td>4082.0</td>\n",
       "    </tr>\n",
       "    <tr>\n",
       "      <th>1107</th>\n",
       "      <td>1400000US21239050103</td>\n",
       "      <td>21239050103</td>\n",
       "      <td>Census Tract 501.03, Woodford County, Kentucky</td>\n",
       "      <td>3144.0</td>\n",
       "    </tr>\n",
       "    <tr>\n",
       "      <th>1108</th>\n",
       "      <td>1400000US21239050104</td>\n",
       "      <td>21239050104</td>\n",
       "      <td>Census Tract 501.04, Woodford County, Kentucky</td>\n",
       "      <td>3927.0</td>\n",
       "    </tr>\n",
       "    <tr>\n",
       "      <th>1109</th>\n",
       "      <td>1400000US21239050105</td>\n",
       "      <td>21239050105</td>\n",
       "      <td>Census Tract 501.05, Woodford County, Kentucky</td>\n",
       "      <td>3139.0</td>\n",
       "    </tr>\n",
       "    <tr>\n",
       "      <th>1110</th>\n",
       "      <td>1400000US21239050106</td>\n",
       "      <td>21239050106</td>\n",
       "      <td>Census Tract 501.06, Woodford County, Kentucky</td>\n",
       "      <td>3261.0</td>\n",
       "    </tr>\n",
       "    <tr>\n",
       "      <th>1111</th>\n",
       "      <td>1400000US21239050107</td>\n",
       "      <td>21239050107</td>\n",
       "      <td>Census Tract 501.07, Woodford County, Kentucky</td>\n",
       "      <td>3757.0</td>\n",
       "    </tr>\n",
       "    <tr>\n",
       "      <th>1112</th>\n",
       "      <td>1400000US21239050200</td>\n",
       "      <td>21239050200</td>\n",
       "      <td>Census Tract 502, Woodford County, Kentucky</td>\n",
       "      <td>3533.0</td>\n",
       "    </tr>\n",
       "    <tr>\n",
       "      <th>1113</th>\n",
       "      <td>1400000US21239050300</td>\n",
       "      <td>21239050300</td>\n",
       "      <td>Census Tract 503, Woodford County, Kentucky</td>\n",
       "      <td>1899.0</td>\n",
       "    </tr>\n",
       "    <tr>\n",
       "      <th>1114</th>\n",
       "      <td>1400000US21239050400</td>\n",
       "      <td>21239050400</td>\n",
       "      <td>Census Tract 504, Woodford County, Kentucky</td>\n",
       "      <td>2279.0</td>\n",
       "    </tr>\n",
       "  </tbody>\n",
       "</table>\n",
       "<p>1114 rows × 4 columns</p>\n",
       "</div>"
      ],
      "text/plain": [
       "                        Id          Id2  \\\n",
       "1     1400000US21001970200  21001970200   \n",
       "2     1400000US21001970300  21001970300   \n",
       "3     1400000US21001970401  21001970401   \n",
       "4     1400000US21001970402  21001970402   \n",
       "5     1400000US21001970500  21001970500   \n",
       "6     1400000US21001970600  21001970600   \n",
       "7     1400000US21003920100  21003920100   \n",
       "8     1400000US21003920200  21003920200   \n",
       "9     1400000US21003920300  21003920300   \n",
       "10    1400000US21003920400  21003920400   \n",
       "11    1400000US21003920500  21003920500   \n",
       "12    1400000US21003920600  21003920600   \n",
       "13    1400000US21005950100  21005950100   \n",
       "14    1400000US21005950201  21005950201   \n",
       "15    1400000US21005950202  21005950202   \n",
       "16    1400000US21005950300  21005950300   \n",
       "17    1400000US21005950400  21005950400   \n",
       "18    1400000US21007950100  21007950100   \n",
       "19    1400000US21007950200  21007950200   \n",
       "20    1400000US21007950300  21007950300   \n",
       "21    1400000US21009950100  21009950100   \n",
       "22    1400000US21009950200  21009950200   \n",
       "23    1400000US21009950300  21009950300   \n",
       "24    1400000US21009950400  21009950400   \n",
       "25    1400000US21009950500  21009950500   \n",
       "26    1400000US21009950600  21009950600   \n",
       "27    1400000US21009950700  21009950700   \n",
       "28    1400000US21009950800  21009950800   \n",
       "29    1400000US21009950900  21009950900   \n",
       "30    1400000US21009951000  21009951000   \n",
       "...                    ...          ...   \n",
       "1085  1400000US21229930100  21229930100   \n",
       "1086  1400000US21229930200  21229930200   \n",
       "1087  1400000US21229930300  21229930300   \n",
       "1088  1400000US21231920100  21231920100   \n",
       "1089  1400000US21231920200  21231920200   \n",
       "1090  1400000US21231920300  21231920300   \n",
       "1091  1400000US21231920400  21231920400   \n",
       "1092  1400000US21231920700  21231920700   \n",
       "1093  1400000US21233960100  21233960100   \n",
       "1094  1400000US21233960200  21233960200   \n",
       "1095  1400000US21233960300  21233960300   \n",
       "1096  1400000US21233960400  21233960400   \n",
       "1097  1400000US21235920100  21235920100   \n",
       "1098  1400000US21235920200  21235920200   \n",
       "1099  1400000US21235920300  21235920300   \n",
       "1100  1400000US21235920400  21235920400   \n",
       "1101  1400000US21235920500  21235920500   \n",
       "1102  1400000US21235920600  21235920600   \n",
       "1103  1400000US21235920700  21235920700   \n",
       "1104  1400000US21235920800  21235920800   \n",
       "1105  1400000US21237930100  21237930100   \n",
       "1106  1400000US21237930200  21237930200   \n",
       "1107  1400000US21239050103  21239050103   \n",
       "1108  1400000US21239050104  21239050104   \n",
       "1109  1400000US21239050105  21239050105   \n",
       "1110  1400000US21239050106  21239050106   \n",
       "1111  1400000US21239050107  21239050107   \n",
       "1112  1400000US21239050200  21239050200   \n",
       "1113  1400000US21239050300  21239050300   \n",
       "1114  1400000US21239050400  21239050400   \n",
       "\n",
       "                                            Geography  Population  \n",
       "1           Census Tract 9702, Adair County, Kentucky      1722.0  \n",
       "2           Census Tract 9703, Adair County, Kentucky      3016.0  \n",
       "3        Census Tract 9704.01, Adair County, Kentucky      4070.0  \n",
       "4        Census Tract 9704.02, Adair County, Kentucky      4261.0  \n",
       "5           Census Tract 9705, Adair County, Kentucky      2457.0  \n",
       "6           Census Tract 9706, Adair County, Kentucky      1403.0  \n",
       "7           Census Tract 9201, Allen County, Kentucky      3185.0  \n",
       "8           Census Tract 9202, Allen County, Kentucky      2703.0  \n",
       "9           Census Tract 9203, Allen County, Kentucky      4685.0  \n",
       "10          Census Tract 9204, Allen County, Kentucky      4492.0  \n",
       "11          Census Tract 9205, Allen County, Kentucky      1600.0  \n",
       "12          Census Tract 9206, Allen County, Kentucky      3291.0  \n",
       "13       Census Tract 9501, Anderson County, Kentucky      8164.0  \n",
       "14    Census Tract 9502.01, Anderson County, Kentucky      5372.0  \n",
       "15    Census Tract 9502.02, Anderson County, Kentucky      3651.0  \n",
       "16       Census Tract 9503, Anderson County, Kentucky      1969.0  \n",
       "17       Census Tract 9504, Anderson County, Kentucky      2265.0  \n",
       "18        Census Tract 9501, Ballard County, Kentucky      4259.0  \n",
       "19        Census Tract 9502, Ballard County, Kentucky      1494.0  \n",
       "20        Census Tract 9503, Ballard County, Kentucky      2496.0  \n",
       "21         Census Tract 9501, Barren County, Kentucky      3592.0  \n",
       "22         Census Tract 9502, Barren County, Kentucky      3642.0  \n",
       "23         Census Tract 9503, Barren County, Kentucky      3065.0  \n",
       "24         Census Tract 9504, Barren County, Kentucky      5910.0  \n",
       "25         Census Tract 9505, Barren County, Kentucky      3698.0  \n",
       "26         Census Tract 9506, Barren County, Kentucky      5937.0  \n",
       "27         Census Tract 9507, Barren County, Kentucky      5878.0  \n",
       "28         Census Tract 9508, Barren County, Kentucky      3337.0  \n",
       "29         Census Tract 9509, Barren County, Kentucky      3607.0  \n",
       "30         Census Tract 9510, Barren County, Kentucky      3507.0  \n",
       "...                                               ...         ...  \n",
       "1085   Census Tract 9301, Washington County, Kentucky      2767.0  \n",
       "1086   Census Tract 9302, Washington County, Kentucky      6705.0  \n",
       "1087   Census Tract 9303, Washington County, Kentucky      2245.0  \n",
       "1088        Census Tract 9201, Wayne County, Kentucky      4666.0  \n",
       "1089        Census Tract 9202, Wayne County, Kentucky      6121.0  \n",
       "1090        Census Tract 9203, Wayne County, Kentucky      4063.0  \n",
       "1091        Census Tract 9204, Wayne County, Kentucky      3309.0  \n",
       "1092        Census Tract 9207, Wayne County, Kentucky      2654.0  \n",
       "1093      Census Tract 9601, Webster County, Kentucky      4584.0  \n",
       "1094      Census Tract 9602, Webster County, Kentucky      2606.0  \n",
       "1095      Census Tract 9603, Webster County, Kentucky      2435.0  \n",
       "1096      Census Tract 9604, Webster County, Kentucky      3996.0  \n",
       "1097      Census Tract 9201, Whitley County, Kentucky      2692.0  \n",
       "1098      Census Tract 9202, Whitley County, Kentucky      2808.0  \n",
       "1099      Census Tract 9203, Whitley County, Kentucky      6189.0  \n",
       "1100      Census Tract 9204, Whitley County, Kentucky      5899.0  \n",
       "1101      Census Tract 9205, Whitley County, Kentucky      6110.0  \n",
       "1102      Census Tract 9206, Whitley County, Kentucky      5230.0  \n",
       "1103      Census Tract 9207, Whitley County, Kentucky      4730.0  \n",
       "1104      Census Tract 9208, Whitley County, Kentucky      1979.0  \n",
       "1105        Census Tract 9301, Wolfe County, Kentucky      3273.0  \n",
       "1106        Census Tract 9302, Wolfe County, Kentucky      4082.0  \n",
       "1107   Census Tract 501.03, Woodford County, Kentucky      3144.0  \n",
       "1108   Census Tract 501.04, Woodford County, Kentucky      3927.0  \n",
       "1109   Census Tract 501.05, Woodford County, Kentucky      3139.0  \n",
       "1110   Census Tract 501.06, Woodford County, Kentucky      3261.0  \n",
       "1111   Census Tract 501.07, Woodford County, Kentucky      3757.0  \n",
       "1112      Census Tract 502, Woodford County, Kentucky      3533.0  \n",
       "1113      Census Tract 503, Woodford County, Kentucky      1899.0  \n",
       "1114      Census Tract 504, Woodford County, Kentucky      2279.0  \n",
       "\n",
       "[1114 rows x 4 columns]"
      ]
     },
     "execution_count": 14,
     "metadata": {},
     "output_type": "execute_result"
    }
   ],
   "source": [
    "df=df.drop(0)\n",
    "df"
   ]
  },
  {
   "cell_type": "markdown",
   "metadata": {},
   "source": [
    "A second way to index is using loc, which uses the labels of the index. Note that this approach includes the second value in the index range, whereas iloc does not."
   ]
  },
  {
   "cell_type": "code",
   "execution_count": 5,
   "metadata": {
    "collapsed": false
   },
   "outputs": [
    {
     "data": {
      "text/html": [
       "<div>\n",
       "<table border=\"1\" class=\"dataframe\">\n",
       "  <thead>\n",
       "    <tr style=\"text-align: right;\">\n",
       "      <th></th>\n",
       "      <th>Id</th>\n",
       "      <th>Id2</th>\n",
       "      <th>Geography</th>\n",
       "      <th>Population</th>\n",
       "    </tr>\n",
       "  </thead>\n",
       "  <tbody>\n",
       "    <tr>\n",
       "      <th>0</th>\n",
       "      <td>1400000US21001970100</td>\n",
       "      <td>21001970100</td>\n",
       "      <td>Census Tract 9701, Adair County, Kentucky</td>\n",
       "      <td>1727</td>\n",
       "    </tr>\n",
       "    <tr>\n",
       "      <th>1</th>\n",
       "      <td>1400000US21001970200</td>\n",
       "      <td>21001970200</td>\n",
       "      <td>Census Tract 9702, Adair County, Kentucky</td>\n",
       "      <td>1722</td>\n",
       "    </tr>\n",
       "    <tr>\n",
       "      <th>2</th>\n",
       "      <td>1400000US21001970300</td>\n",
       "      <td>21001970300</td>\n",
       "      <td>Census Tract 9703, Adair County, Kentucky</td>\n",
       "      <td>3016</td>\n",
       "    </tr>\n",
       "    <tr>\n",
       "      <th>3</th>\n",
       "      <td>1400000US21001970401</td>\n",
       "      <td>21001970401</td>\n",
       "      <td>Census Tract 9704.01, Adair County, Kentucky</td>\n",
       "      <td>4070</td>\n",
       "    </tr>\n",
       "    <tr>\n",
       "      <th>4</th>\n",
       "      <td>1400000US21001970402</td>\n",
       "      <td>21001970402</td>\n",
       "      <td>Census Tract 9704.02, Adair County, Kentucky</td>\n",
       "      <td>4261</td>\n",
       "    </tr>\n",
       "    <tr>\n",
       "      <th>5</th>\n",
       "      <td>1400000US21001970500</td>\n",
       "      <td>21001970500</td>\n",
       "      <td>Census Tract 9705, Adair County, Kentucky</td>\n",
       "      <td>2457</td>\n",
       "    </tr>\n",
       "  </tbody>\n",
       "</table>\n",
       "</div>"
      ],
      "text/plain": [
       "                     Id          Id2  \\\n",
       "0  1400000US21001970100  21001970100   \n",
       "1  1400000US21001970200  21001970200   \n",
       "2  1400000US21001970300  21001970300   \n",
       "3  1400000US21001970401  21001970401   \n",
       "4  1400000US21001970402  21001970402   \n",
       "5  1400000US21001970500  21001970500   \n",
       "\n",
       "                                      Geography  Population  \n",
       "0     Census Tract 9701, Adair County, Kentucky        1727  \n",
       "1     Census Tract 9702, Adair County, Kentucky        1722  \n",
       "2     Census Tract 9703, Adair County, Kentucky        3016  \n",
       "3  Census Tract 9704.01, Adair County, Kentucky        4070  \n",
       "4  Census Tract 9704.02, Adair County, Kentucky        4261  \n",
       "5     Census Tract 9705, Adair County, Kentucky        2457  "
      ]
     },
     "execution_count": 5,
     "metadata": {},
     "output_type": "execute_result"
    }
   ],
   "source": [
    "df.loc[:5]"
   ]
  },
  {
   "cell_type": "markdown",
   "metadata": {},
   "source": [
    "Note that indexing can work for both rows and colums"
   ]
  },
  {
   "cell_type": "code",
   "execution_count": 44,
   "metadata": {
    "collapsed": false
   },
   "outputs": [
    {
     "data": {
      "text/html": [
       "<div>\n",
       "<table border=\"1\" class=\"dataframe\">\n",
       "  <thead>\n",
       "    <tr style=\"text-align: right;\">\n",
       "      <th></th>\n",
       "      <th>Id</th>\n",
       "      <th>Id2</th>\n",
       "      <th>Geography</th>\n",
       "    </tr>\n",
       "  </thead>\n",
       "  <tbody>\n",
       "    <tr>\n",
       "      <th>0</th>\n",
       "      <td>1400000US21001970100</td>\n",
       "      <td>21001970100</td>\n",
       "      <td>Census Tract 9701, Adair County, Kentucky</td>\n",
       "    </tr>\n",
       "    <tr>\n",
       "      <th>1</th>\n",
       "      <td>1400000US21001970200</td>\n",
       "      <td>21001970200</td>\n",
       "      <td>Census Tract 9702, Adair County, Kentucky</td>\n",
       "    </tr>\n",
       "    <tr>\n",
       "      <th>2</th>\n",
       "      <td>1400000US21001970300</td>\n",
       "      <td>21001970300</td>\n",
       "      <td>Census Tract 9703, Adair County, Kentucky</td>\n",
       "    </tr>\n",
       "    <tr>\n",
       "      <th>3</th>\n",
       "      <td>1400000US21001970401</td>\n",
       "      <td>21001970401</td>\n",
       "      <td>Census Tract 9704.01, Adair County, Kentucky</td>\n",
       "    </tr>\n",
       "    <tr>\n",
       "      <th>4</th>\n",
       "      <td>1400000US21001970402</td>\n",
       "      <td>21001970402</td>\n",
       "      <td>Census Tract 9704.02, Adair County, Kentucky</td>\n",
       "    </tr>\n",
       "    <tr>\n",
       "      <th>5</th>\n",
       "      <td>1400000US21001970500</td>\n",
       "      <td>21001970500</td>\n",
       "      <td>Census Tract 9705, Adair County, Kentucky</td>\n",
       "    </tr>\n",
       "  </tbody>\n",
       "</table>\n",
       "</div>"
      ],
      "text/plain": [
       "                     Id          Id2  \\\n",
       "0  1400000US21001970100  21001970100   \n",
       "1  1400000US21001970200  21001970200   \n",
       "2  1400000US21001970300  21001970300   \n",
       "3  1400000US21001970401  21001970401   \n",
       "4  1400000US21001970402  21001970402   \n",
       "5  1400000US21001970500  21001970500   \n",
       "\n",
       "                                      Geography  \n",
       "0     Census Tract 9701, Adair County, Kentucky  \n",
       "1     Census Tract 9702, Adair County, Kentucky  \n",
       "2     Census Tract 9703, Adair County, Kentucky  \n",
       "3  Census Tract 9704.01, Adair County, Kentucky  \n",
       "4  Census Tract 9704.02, Adair County, Kentucky  \n",
       "5     Census Tract 9705, Adair County, Kentucky  "
      ]
     },
     "execution_count": 44,
     "metadata": {},
     "output_type": "execute_result"
    }
   ],
   "source": [
    "df.loc[:5, : 'Geography']"
   ]
  },
  {
   "cell_type": "code",
   "execution_count": 7,
   "metadata": {
    "collapsed": false,
    "scrolled": false
   },
   "outputs": [
    {
     "data": {
      "text/html": [
       "<div>\n",
       "<table border=\"1\" class=\"dataframe\">\n",
       "  <thead>\n",
       "    <tr style=\"text-align: right;\">\n",
       "      <th></th>\n",
       "      <th>Id</th>\n",
       "      <th>Id2</th>\n",
       "      <th>Geography</th>\n",
       "    </tr>\n",
       "  </thead>\n",
       "  <tbody>\n",
       "    <tr>\n",
       "      <th>0</th>\n",
       "      <td>1400000US21001970100</td>\n",
       "      <td>21001970100</td>\n",
       "      <td>Census Tract 9701, Adair County, Kentucky</td>\n",
       "    </tr>\n",
       "    <tr>\n",
       "      <th>1</th>\n",
       "      <td>1400000US21001970200</td>\n",
       "      <td>21001970200</td>\n",
       "      <td>Census Tract 9702, Adair County, Kentucky</td>\n",
       "    </tr>\n",
       "    <tr>\n",
       "      <th>2</th>\n",
       "      <td>1400000US21001970300</td>\n",
       "      <td>21001970300</td>\n",
       "      <td>Census Tract 9703, Adair County, Kentucky</td>\n",
       "    </tr>\n",
       "    <tr>\n",
       "      <th>3</th>\n",
       "      <td>1400000US21001970401</td>\n",
       "      <td>21001970401</td>\n",
       "      <td>Census Tract 9704.01, Adair County, Kentucky</td>\n",
       "    </tr>\n",
       "    <tr>\n",
       "      <th>4</th>\n",
       "      <td>1400000US21001970402</td>\n",
       "      <td>21001970402</td>\n",
       "      <td>Census Tract 9704.02, Adair County, Kentucky</td>\n",
       "    </tr>\n",
       "  </tbody>\n",
       "</table>\n",
       "</div>"
      ],
      "text/plain": [
       "                     Id          Id2  \\\n",
       "0  1400000US21001970100  21001970100   \n",
       "1  1400000US21001970200  21001970200   \n",
       "2  1400000US21001970300  21001970300   \n",
       "3  1400000US21001970401  21001970401   \n",
       "4  1400000US21001970402  21001970402   \n",
       "\n",
       "                                      Geography  \n",
       "0     Census Tract 9701, Adair County, Kentucky  \n",
       "1     Census Tract 9702, Adair County, Kentucky  \n",
       "2     Census Tract 9703, Adair County, Kentucky  \n",
       "3  Census Tract 9704.01, Adair County, Kentucky  \n",
       "4  Census Tract 9704.02, Adair County, Kentucky  "
      ]
     },
     "execution_count": 7,
     "metadata": {},
     "output_type": "execute_result"
    }
   ],
   "source": [
    "df.iloc[:5, :3]"
   ]
  },
  {
   "cell_type": "code",
   "execution_count": 20,
   "metadata": {
    "collapsed": false
   },
   "outputs": [
    {
     "data": {
      "text/html": [
       "<div>\n",
       "<table border=\"1\" class=\"dataframe\">\n",
       "  <thead>\n",
       "    <tr style=\"text-align: right;\">\n",
       "      <th></th>\n",
       "      <th>Id</th>\n",
       "      <th>Id2</th>\n",
       "      <th>Geography</th>\n",
       "      <th>Population</th>\n",
       "    </tr>\n",
       "  </thead>\n",
       "  <tbody>\n",
       "    <tr>\n",
       "      <th>0</th>\n",
       "      <td>1400000US21001970100</td>\n",
       "      <td>21001970100</td>\n",
       "      <td>Census Tract 9701, Adair County, Kentucky</td>\n",
       "      <td>1727</td>\n",
       "    </tr>\n",
       "    <tr>\n",
       "      <th>1</th>\n",
       "      <td>1400000US21001970200</td>\n",
       "      <td>21001970200</td>\n",
       "      <td>Census Tract 9702, Adair County, Kentucky</td>\n",
       "      <td>1722</td>\n",
       "    </tr>\n",
       "    <tr>\n",
       "      <th>2</th>\n",
       "      <td>1400000US21001970300</td>\n",
       "      <td>21001970300</td>\n",
       "      <td>Census Tract 9703, Adair County, Kentucky</td>\n",
       "      <td>3016</td>\n",
       "    </tr>\n",
       "    <tr>\n",
       "      <th>4</th>\n",
       "      <td>1400000US21001970402</td>\n",
       "      <td>21001970402</td>\n",
       "      <td>Census Tract 9704.02, Adair County, Kentucky</td>\n",
       "      <td>4261</td>\n",
       "    </tr>\n",
       "    <tr>\n",
       "      <th>5</th>\n",
       "      <td>1400000US21001970500</td>\n",
       "      <td>21001970500</td>\n",
       "      <td>Census Tract 9705, Adair County, Kentucky</td>\n",
       "      <td>2457</td>\n",
       "    </tr>\n",
       "    <tr>\n",
       "      <th>6</th>\n",
       "      <td>1400000US21001970600</td>\n",
       "      <td>21001970600</td>\n",
       "      <td>Census Tract 9706, Adair County, Kentucky</td>\n",
       "      <td>1403</td>\n",
       "    </tr>\n",
       "    <tr>\n",
       "      <th>7</th>\n",
       "      <td>1400000US21003920100</td>\n",
       "      <td>21003920100</td>\n",
       "      <td>Census Tract 9201, Allen County, Kentucky</td>\n",
       "      <td>3185</td>\n",
       "    </tr>\n",
       "    <tr>\n",
       "      <th>8</th>\n",
       "      <td>1400000US21003920200</td>\n",
       "      <td>21003920200</td>\n",
       "      <td>Census Tract 9202, Allen County, Kentucky</td>\n",
       "      <td>2703</td>\n",
       "    </tr>\n",
       "    <tr>\n",
       "      <th>9</th>\n",
       "      <td>1400000US21003920300</td>\n",
       "      <td>21003920300</td>\n",
       "      <td>Census Tract 9203, Allen County, Kentucky</td>\n",
       "      <td>4685</td>\n",
       "    </tr>\n",
       "    <tr>\n",
       "      <th>10</th>\n",
       "      <td>1400000US21003920400</td>\n",
       "      <td>21003920400</td>\n",
       "      <td>Census Tract 9204, Allen County, Kentucky</td>\n",
       "      <td>4492</td>\n",
       "    </tr>\n",
       "    <tr>\n",
       "      <th>11</th>\n",
       "      <td>1400000US21003920500</td>\n",
       "      <td>21003920500</td>\n",
       "      <td>Census Tract 9205, Allen County, Kentucky</td>\n",
       "      <td>1600</td>\n",
       "    </tr>\n",
       "    <tr>\n",
       "      <th>12</th>\n",
       "      <td>1400000US21003920600</td>\n",
       "      <td>21003920600</td>\n",
       "      <td>Census Tract 9206, Allen County, Kentucky</td>\n",
       "      <td>3291</td>\n",
       "    </tr>\n",
       "    <tr>\n",
       "      <th>13</th>\n",
       "      <td>1400000US21005950100</td>\n",
       "      <td>21005950100</td>\n",
       "      <td>Census Tract 9501, Anderson County, Kentucky</td>\n",
       "      <td>8164</td>\n",
       "    </tr>\n",
       "    <tr>\n",
       "      <th>14</th>\n",
       "      <td>1400000US21005950201</td>\n",
       "      <td>21005950201</td>\n",
       "      <td>Census Tract 9502.01, Anderson County, Kentucky</td>\n",
       "      <td>5372</td>\n",
       "    </tr>\n",
       "    <tr>\n",
       "      <th>15</th>\n",
       "      <td>1400000US21005950202</td>\n",
       "      <td>21005950202</td>\n",
       "      <td>Census Tract 9502.02, Anderson County, Kentucky</td>\n",
       "      <td>3651</td>\n",
       "    </tr>\n",
       "    <tr>\n",
       "      <th>16</th>\n",
       "      <td>1400000US21005950300</td>\n",
       "      <td>21005950300</td>\n",
       "      <td>Census Tract 9503, Anderson County, Kentucky</td>\n",
       "      <td>1969</td>\n",
       "    </tr>\n",
       "    <tr>\n",
       "      <th>17</th>\n",
       "      <td>1400000US21005950400</td>\n",
       "      <td>21005950400</td>\n",
       "      <td>Census Tract 9504, Anderson County, Kentucky</td>\n",
       "      <td>2265</td>\n",
       "    </tr>\n",
       "    <tr>\n",
       "      <th>18</th>\n",
       "      <td>1400000US21007950100</td>\n",
       "      <td>21007950100</td>\n",
       "      <td>Census Tract 9501, Ballard County, Kentucky</td>\n",
       "      <td>4259</td>\n",
       "    </tr>\n",
       "    <tr>\n",
       "      <th>19</th>\n",
       "      <td>1400000US21007950200</td>\n",
       "      <td>21007950200</td>\n",
       "      <td>Census Tract 9502, Ballard County, Kentucky</td>\n",
       "      <td>1494</td>\n",
       "    </tr>\n",
       "    <tr>\n",
       "      <th>20</th>\n",
       "      <td>1400000US21007950300</td>\n",
       "      <td>21007950300</td>\n",
       "      <td>Census Tract 9503, Ballard County, Kentucky</td>\n",
       "      <td>2496</td>\n",
       "    </tr>\n",
       "    <tr>\n",
       "      <th>21</th>\n",
       "      <td>1400000US21009950100</td>\n",
       "      <td>21009950100</td>\n",
       "      <td>Census Tract 9501, Barren County, Kentucky</td>\n",
       "      <td>3592</td>\n",
       "    </tr>\n",
       "    <tr>\n",
       "      <th>22</th>\n",
       "      <td>1400000US21009950200</td>\n",
       "      <td>21009950200</td>\n",
       "      <td>Census Tract 9502, Barren County, Kentucky</td>\n",
       "      <td>3642</td>\n",
       "    </tr>\n",
       "    <tr>\n",
       "      <th>23</th>\n",
       "      <td>1400000US21009950300</td>\n",
       "      <td>21009950300</td>\n",
       "      <td>Census Tract 9503, Barren County, Kentucky</td>\n",
       "      <td>3065</td>\n",
       "    </tr>\n",
       "    <tr>\n",
       "      <th>24</th>\n",
       "      <td>1400000US21009950400</td>\n",
       "      <td>21009950400</td>\n",
       "      <td>Census Tract 9504, Barren County, Kentucky</td>\n",
       "      <td>5910</td>\n",
       "    </tr>\n",
       "    <tr>\n",
       "      <th>25</th>\n",
       "      <td>1400000US21009950500</td>\n",
       "      <td>21009950500</td>\n",
       "      <td>Census Tract 9505, Barren County, Kentucky</td>\n",
       "      <td>3698</td>\n",
       "    </tr>\n",
       "    <tr>\n",
       "      <th>26</th>\n",
       "      <td>1400000US21009950600</td>\n",
       "      <td>21009950600</td>\n",
       "      <td>Census Tract 9506, Barren County, Kentucky</td>\n",
       "      <td>5937</td>\n",
       "    </tr>\n",
       "    <tr>\n",
       "      <th>27</th>\n",
       "      <td>1400000US21009950700</td>\n",
       "      <td>21009950700</td>\n",
       "      <td>Census Tract 9507, Barren County, Kentucky</td>\n",
       "      <td>5878</td>\n",
       "    </tr>\n",
       "    <tr>\n",
       "      <th>28</th>\n",
       "      <td>1400000US21009950800</td>\n",
       "      <td>21009950800</td>\n",
       "      <td>Census Tract 9508, Barren County, Kentucky</td>\n",
       "      <td>3337</td>\n",
       "    </tr>\n",
       "    <tr>\n",
       "      <th>29</th>\n",
       "      <td>1400000US21009950900</td>\n",
       "      <td>21009950900</td>\n",
       "      <td>Census Tract 9509, Barren County, Kentucky</td>\n",
       "      <td>3607</td>\n",
       "    </tr>\n",
       "    <tr>\n",
       "      <th>30</th>\n",
       "      <td>1400000US21009951000</td>\n",
       "      <td>21009951000</td>\n",
       "      <td>Census Tract 9510, Barren County, Kentucky</td>\n",
       "      <td>3507</td>\n",
       "    </tr>\n",
       "    <tr>\n",
       "      <th>...</th>\n",
       "      <td>...</td>\n",
       "      <td>...</td>\n",
       "      <td>...</td>\n",
       "      <td>...</td>\n",
       "    </tr>\n",
       "    <tr>\n",
       "      <th>1085</th>\n",
       "      <td>1400000US21229930100</td>\n",
       "      <td>21229930100</td>\n",
       "      <td>Census Tract 9301, Washington County, Kentucky</td>\n",
       "      <td>2767</td>\n",
       "    </tr>\n",
       "    <tr>\n",
       "      <th>1086</th>\n",
       "      <td>1400000US21229930200</td>\n",
       "      <td>21229930200</td>\n",
       "      <td>Census Tract 9302, Washington County, Kentucky</td>\n",
       "      <td>6705</td>\n",
       "    </tr>\n",
       "    <tr>\n",
       "      <th>1087</th>\n",
       "      <td>1400000US21229930300</td>\n",
       "      <td>21229930300</td>\n",
       "      <td>Census Tract 9303, Washington County, Kentucky</td>\n",
       "      <td>2245</td>\n",
       "    </tr>\n",
       "    <tr>\n",
       "      <th>1088</th>\n",
       "      <td>1400000US21231920100</td>\n",
       "      <td>21231920100</td>\n",
       "      <td>Census Tract 9201, Wayne County, Kentucky</td>\n",
       "      <td>4666</td>\n",
       "    </tr>\n",
       "    <tr>\n",
       "      <th>1089</th>\n",
       "      <td>1400000US21231920200</td>\n",
       "      <td>21231920200</td>\n",
       "      <td>Census Tract 9202, Wayne County, Kentucky</td>\n",
       "      <td>6121</td>\n",
       "    </tr>\n",
       "    <tr>\n",
       "      <th>1090</th>\n",
       "      <td>1400000US21231920300</td>\n",
       "      <td>21231920300</td>\n",
       "      <td>Census Tract 9203, Wayne County, Kentucky</td>\n",
       "      <td>4063</td>\n",
       "    </tr>\n",
       "    <tr>\n",
       "      <th>1091</th>\n",
       "      <td>1400000US21231920400</td>\n",
       "      <td>21231920400</td>\n",
       "      <td>Census Tract 9204, Wayne County, Kentucky</td>\n",
       "      <td>3309</td>\n",
       "    </tr>\n",
       "    <tr>\n",
       "      <th>1092</th>\n",
       "      <td>1400000US21231920700</td>\n",
       "      <td>21231920700</td>\n",
       "      <td>Census Tract 9207, Wayne County, Kentucky</td>\n",
       "      <td>2654</td>\n",
       "    </tr>\n",
       "    <tr>\n",
       "      <th>1093</th>\n",
       "      <td>1400000US21233960100</td>\n",
       "      <td>21233960100</td>\n",
       "      <td>Census Tract 9601, Webster County, Kentucky</td>\n",
       "      <td>4584</td>\n",
       "    </tr>\n",
       "    <tr>\n",
       "      <th>1094</th>\n",
       "      <td>1400000US21233960200</td>\n",
       "      <td>21233960200</td>\n",
       "      <td>Census Tract 9602, Webster County, Kentucky</td>\n",
       "      <td>2606</td>\n",
       "    </tr>\n",
       "    <tr>\n",
       "      <th>1095</th>\n",
       "      <td>1400000US21233960300</td>\n",
       "      <td>21233960300</td>\n",
       "      <td>Census Tract 9603, Webster County, Kentucky</td>\n",
       "      <td>2435</td>\n",
       "    </tr>\n",
       "    <tr>\n",
       "      <th>1096</th>\n",
       "      <td>1400000US21233960400</td>\n",
       "      <td>21233960400</td>\n",
       "      <td>Census Tract 9604, Webster County, Kentucky</td>\n",
       "      <td>3996</td>\n",
       "    </tr>\n",
       "    <tr>\n",
       "      <th>1097</th>\n",
       "      <td>1400000US21235920100</td>\n",
       "      <td>21235920100</td>\n",
       "      <td>Census Tract 9201, Whitley County, Kentucky</td>\n",
       "      <td>2692</td>\n",
       "    </tr>\n",
       "    <tr>\n",
       "      <th>1098</th>\n",
       "      <td>1400000US21235920200</td>\n",
       "      <td>21235920200</td>\n",
       "      <td>Census Tract 9202, Whitley County, Kentucky</td>\n",
       "      <td>2808</td>\n",
       "    </tr>\n",
       "    <tr>\n",
       "      <th>1099</th>\n",
       "      <td>1400000US21235920300</td>\n",
       "      <td>21235920300</td>\n",
       "      <td>Census Tract 9203, Whitley County, Kentucky</td>\n",
       "      <td>6189</td>\n",
       "    </tr>\n",
       "    <tr>\n",
       "      <th>1100</th>\n",
       "      <td>1400000US21235920400</td>\n",
       "      <td>21235920400</td>\n",
       "      <td>Census Tract 9204, Whitley County, Kentucky</td>\n",
       "      <td>5899</td>\n",
       "    </tr>\n",
       "    <tr>\n",
       "      <th>1101</th>\n",
       "      <td>1400000US21235920500</td>\n",
       "      <td>21235920500</td>\n",
       "      <td>Census Tract 9205, Whitley County, Kentucky</td>\n",
       "      <td>6110</td>\n",
       "    </tr>\n",
       "    <tr>\n",
       "      <th>1102</th>\n",
       "      <td>1400000US21235920600</td>\n",
       "      <td>21235920600</td>\n",
       "      <td>Census Tract 9206, Whitley County, Kentucky</td>\n",
       "      <td>5230</td>\n",
       "    </tr>\n",
       "    <tr>\n",
       "      <th>1103</th>\n",
       "      <td>1400000US21235920700</td>\n",
       "      <td>21235920700</td>\n",
       "      <td>Census Tract 9207, Whitley County, Kentucky</td>\n",
       "      <td>4730</td>\n",
       "    </tr>\n",
       "    <tr>\n",
       "      <th>1104</th>\n",
       "      <td>1400000US21235920800</td>\n",
       "      <td>21235920800</td>\n",
       "      <td>Census Tract 9208, Whitley County, Kentucky</td>\n",
       "      <td>1979</td>\n",
       "    </tr>\n",
       "    <tr>\n",
       "      <th>1105</th>\n",
       "      <td>1400000US21237930100</td>\n",
       "      <td>21237930100</td>\n",
       "      <td>Census Tract 9301, Wolfe County, Kentucky</td>\n",
       "      <td>3273</td>\n",
       "    </tr>\n",
       "    <tr>\n",
       "      <th>1106</th>\n",
       "      <td>1400000US21237930200</td>\n",
       "      <td>21237930200</td>\n",
       "      <td>Census Tract 9302, Wolfe County, Kentucky</td>\n",
       "      <td>4082</td>\n",
       "    </tr>\n",
       "    <tr>\n",
       "      <th>1107</th>\n",
       "      <td>1400000US21239050103</td>\n",
       "      <td>21239050103</td>\n",
       "      <td>Census Tract 501.03, Woodford County, Kentucky</td>\n",
       "      <td>3144</td>\n",
       "    </tr>\n",
       "    <tr>\n",
       "      <th>1108</th>\n",
       "      <td>1400000US21239050104</td>\n",
       "      <td>21239050104</td>\n",
       "      <td>Census Tract 501.04, Woodford County, Kentucky</td>\n",
       "      <td>3927</td>\n",
       "    </tr>\n",
       "    <tr>\n",
       "      <th>1109</th>\n",
       "      <td>1400000US21239050105</td>\n",
       "      <td>21239050105</td>\n",
       "      <td>Census Tract 501.05, Woodford County, Kentucky</td>\n",
       "      <td>3139</td>\n",
       "    </tr>\n",
       "    <tr>\n",
       "      <th>1110</th>\n",
       "      <td>1400000US21239050106</td>\n",
       "      <td>21239050106</td>\n",
       "      <td>Census Tract 501.06, Woodford County, Kentucky</td>\n",
       "      <td>3261</td>\n",
       "    </tr>\n",
       "    <tr>\n",
       "      <th>1111</th>\n",
       "      <td>1400000US21239050107</td>\n",
       "      <td>21239050107</td>\n",
       "      <td>Census Tract 501.07, Woodford County, Kentucky</td>\n",
       "      <td>3757</td>\n",
       "    </tr>\n",
       "    <tr>\n",
       "      <th>1112</th>\n",
       "      <td>1400000US21239050200</td>\n",
       "      <td>21239050200</td>\n",
       "      <td>Census Tract 502, Woodford County, Kentucky</td>\n",
       "      <td>3533</td>\n",
       "    </tr>\n",
       "    <tr>\n",
       "      <th>1113</th>\n",
       "      <td>1400000US21239050300</td>\n",
       "      <td>21239050300</td>\n",
       "      <td>Census Tract 503, Woodford County, Kentucky</td>\n",
       "      <td>1899</td>\n",
       "    </tr>\n",
       "    <tr>\n",
       "      <th>1114</th>\n",
       "      <td>1400000US21239050400</td>\n",
       "      <td>21239050400</td>\n",
       "      <td>Census Tract 504, Woodford County, Kentucky</td>\n",
       "      <td>2279</td>\n",
       "    </tr>\n",
       "  </tbody>\n",
       "</table>\n",
       "<p>1114 rows × 4 columns</p>\n",
       "</div>"
      ],
      "text/plain": [
       "                        Id          Id2  \\\n",
       "0     1400000US21001970100  21001970100   \n",
       "1     1400000US21001970200  21001970200   \n",
       "2     1400000US21001970300  21001970300   \n",
       "4     1400000US21001970402  21001970402   \n",
       "5     1400000US21001970500  21001970500   \n",
       "6     1400000US21001970600  21001970600   \n",
       "7     1400000US21003920100  21003920100   \n",
       "8     1400000US21003920200  21003920200   \n",
       "9     1400000US21003920300  21003920300   \n",
       "10    1400000US21003920400  21003920400   \n",
       "11    1400000US21003920500  21003920500   \n",
       "12    1400000US21003920600  21003920600   \n",
       "13    1400000US21005950100  21005950100   \n",
       "14    1400000US21005950201  21005950201   \n",
       "15    1400000US21005950202  21005950202   \n",
       "16    1400000US21005950300  21005950300   \n",
       "17    1400000US21005950400  21005950400   \n",
       "18    1400000US21007950100  21007950100   \n",
       "19    1400000US21007950200  21007950200   \n",
       "20    1400000US21007950300  21007950300   \n",
       "21    1400000US21009950100  21009950100   \n",
       "22    1400000US21009950200  21009950200   \n",
       "23    1400000US21009950300  21009950300   \n",
       "24    1400000US21009950400  21009950400   \n",
       "25    1400000US21009950500  21009950500   \n",
       "26    1400000US21009950600  21009950600   \n",
       "27    1400000US21009950700  21009950700   \n",
       "28    1400000US21009950800  21009950800   \n",
       "29    1400000US21009950900  21009950900   \n",
       "30    1400000US21009951000  21009951000   \n",
       "...                    ...          ...   \n",
       "1085  1400000US21229930100  21229930100   \n",
       "1086  1400000US21229930200  21229930200   \n",
       "1087  1400000US21229930300  21229930300   \n",
       "1088  1400000US21231920100  21231920100   \n",
       "1089  1400000US21231920200  21231920200   \n",
       "1090  1400000US21231920300  21231920300   \n",
       "1091  1400000US21231920400  21231920400   \n",
       "1092  1400000US21231920700  21231920700   \n",
       "1093  1400000US21233960100  21233960100   \n",
       "1094  1400000US21233960200  21233960200   \n",
       "1095  1400000US21233960300  21233960300   \n",
       "1096  1400000US21233960400  21233960400   \n",
       "1097  1400000US21235920100  21235920100   \n",
       "1098  1400000US21235920200  21235920200   \n",
       "1099  1400000US21235920300  21235920300   \n",
       "1100  1400000US21235920400  21235920400   \n",
       "1101  1400000US21235920500  21235920500   \n",
       "1102  1400000US21235920600  21235920600   \n",
       "1103  1400000US21235920700  21235920700   \n",
       "1104  1400000US21235920800  21235920800   \n",
       "1105  1400000US21237930100  21237930100   \n",
       "1106  1400000US21237930200  21237930200   \n",
       "1107  1400000US21239050103  21239050103   \n",
       "1108  1400000US21239050104  21239050104   \n",
       "1109  1400000US21239050105  21239050105   \n",
       "1110  1400000US21239050106  21239050106   \n",
       "1111  1400000US21239050107  21239050107   \n",
       "1112  1400000US21239050200  21239050200   \n",
       "1113  1400000US21239050300  21239050300   \n",
       "1114  1400000US21239050400  21239050400   \n",
       "\n",
       "                                            Geography  Population  \n",
       "0           Census Tract 9701, Adair County, Kentucky        1727  \n",
       "1           Census Tract 9702, Adair County, Kentucky        1722  \n",
       "2           Census Tract 9703, Adair County, Kentucky        3016  \n",
       "4        Census Tract 9704.02, Adair County, Kentucky        4261  \n",
       "5           Census Tract 9705, Adair County, Kentucky        2457  \n",
       "6           Census Tract 9706, Adair County, Kentucky        1403  \n",
       "7           Census Tract 9201, Allen County, Kentucky        3185  \n",
       "8           Census Tract 9202, Allen County, Kentucky        2703  \n",
       "9           Census Tract 9203, Allen County, Kentucky        4685  \n",
       "10          Census Tract 9204, Allen County, Kentucky        4492  \n",
       "11          Census Tract 9205, Allen County, Kentucky        1600  \n",
       "12          Census Tract 9206, Allen County, Kentucky        3291  \n",
       "13       Census Tract 9501, Anderson County, Kentucky        8164  \n",
       "14    Census Tract 9502.01, Anderson County, Kentucky        5372  \n",
       "15    Census Tract 9502.02, Anderson County, Kentucky        3651  \n",
       "16       Census Tract 9503, Anderson County, Kentucky        1969  \n",
       "17       Census Tract 9504, Anderson County, Kentucky        2265  \n",
       "18        Census Tract 9501, Ballard County, Kentucky        4259  \n",
       "19        Census Tract 9502, Ballard County, Kentucky        1494  \n",
       "20        Census Tract 9503, Ballard County, Kentucky        2496  \n",
       "21         Census Tract 9501, Barren County, Kentucky        3592  \n",
       "22         Census Tract 9502, Barren County, Kentucky        3642  \n",
       "23         Census Tract 9503, Barren County, Kentucky        3065  \n",
       "24         Census Tract 9504, Barren County, Kentucky        5910  \n",
       "25         Census Tract 9505, Barren County, Kentucky        3698  \n",
       "26         Census Tract 9506, Barren County, Kentucky        5937  \n",
       "27         Census Tract 9507, Barren County, Kentucky        5878  \n",
       "28         Census Tract 9508, Barren County, Kentucky        3337  \n",
       "29         Census Tract 9509, Barren County, Kentucky        3607  \n",
       "30         Census Tract 9510, Barren County, Kentucky        3507  \n",
       "...                                               ...         ...  \n",
       "1085   Census Tract 9301, Washington County, Kentucky        2767  \n",
       "1086   Census Tract 9302, Washington County, Kentucky        6705  \n",
       "1087   Census Tract 9303, Washington County, Kentucky        2245  \n",
       "1088        Census Tract 9201, Wayne County, Kentucky        4666  \n",
       "1089        Census Tract 9202, Wayne County, Kentucky        6121  \n",
       "1090        Census Tract 9203, Wayne County, Kentucky        4063  \n",
       "1091        Census Tract 9204, Wayne County, Kentucky        3309  \n",
       "1092        Census Tract 9207, Wayne County, Kentucky        2654  \n",
       "1093      Census Tract 9601, Webster County, Kentucky        4584  \n",
       "1094      Census Tract 9602, Webster County, Kentucky        2606  \n",
       "1095      Census Tract 9603, Webster County, Kentucky        2435  \n",
       "1096      Census Tract 9604, Webster County, Kentucky        3996  \n",
       "1097      Census Tract 9201, Whitley County, Kentucky        2692  \n",
       "1098      Census Tract 9202, Whitley County, Kentucky        2808  \n",
       "1099      Census Tract 9203, Whitley County, Kentucky        6189  \n",
       "1100      Census Tract 9204, Whitley County, Kentucky        5899  \n",
       "1101      Census Tract 9205, Whitley County, Kentucky        6110  \n",
       "1102      Census Tract 9206, Whitley County, Kentucky        5230  \n",
       "1103      Census Tract 9207, Whitley County, Kentucky        4730  \n",
       "1104      Census Tract 9208, Whitley County, Kentucky        1979  \n",
       "1105        Census Tract 9301, Wolfe County, Kentucky        3273  \n",
       "1106        Census Tract 9302, Wolfe County, Kentucky        4082  \n",
       "1107   Census Tract 501.03, Woodford County, Kentucky        3144  \n",
       "1108   Census Tract 501.04, Woodford County, Kentucky        3927  \n",
       "1109   Census Tract 501.05, Woodford County, Kentucky        3139  \n",
       "1110   Census Tract 501.06, Woodford County, Kentucky        3261  \n",
       "1111   Census Tract 501.07, Woodford County, Kentucky        3757  \n",
       "1112      Census Tract 502, Woodford County, Kentucky        3533  \n",
       "1113      Census Tract 503, Woodford County, Kentucky        1899  \n",
       "1114      Census Tract 504, Woodford County, Kentucky        2279  \n",
       "\n",
       "[1114 rows x 4 columns]"
      ]
     },
     "execution_count": 20,
     "metadata": {},
     "output_type": "execute_result"
    }
   ],
   "source": [
    "df=df.drop(3)\n",
    "df"
   ]
  },
  {
   "cell_type": "markdown",
   "metadata": {},
   "source": [
    "We can select rows based on their value as well.  Notice that we nest df[df[condition]] to get this result."
   ]
  },
  {
   "cell_type": "code",
   "execution_count": 22,
   "metadata": {
    "collapsed": false
   },
   "outputs": [
    {
     "data": {
      "text/plain": [
       "Id                                    1400000US21001970402\n",
       "Id2                                            21001970402\n",
       "Geography     Census Tract 9704.02, Adair County, Kentucky\n",
       "Population                                            4261\n",
       "Name: 4, dtype: object"
      ]
     },
     "execution_count": 22,
     "metadata": {},
     "output_type": "execute_result"
    }
   ],
   "source": [
    "df.iloc[3]"
   ]
  },
  {
   "cell_type": "code",
   "execution_count": 25,
   "metadata": {
    "collapsed": false
   },
   "outputs": [
    {
     "data": {
      "text/plain": [
       "Id                                 1400000US21001970500\n",
       "Id2                                         21001970500\n",
       "Geography     Census Tract 9705, Adair County, Kentucky\n",
       "Population                                         2457\n",
       "Name: 5, dtype: object"
      ]
     },
     "execution_count": 25,
     "metadata": {},
     "output_type": "execute_result"
    }
   ],
   "source": [
    "df.iloc[4]"
   ]
  },
  {
   "cell_type": "code",
   "execution_count": 29,
   "metadata": {
    "collapsed": false
   },
   "outputs": [
    {
     "data": {
      "text/html": [
       "<div>\n",
       "<table border=\"1\" class=\"dataframe\">\n",
       "  <thead>\n",
       "    <tr style=\"text-align: right;\">\n",
       "      <th></th>\n",
       "      <th>Id</th>\n",
       "      <th>Id2</th>\n",
       "      <th>Geography</th>\n",
       "      <th>Population</th>\n",
       "    </tr>\n",
       "  </thead>\n",
       "  <tbody>\n",
       "    <tr>\n",
       "      <th>0</th>\n",
       "      <td>1400000US21001970100</td>\n",
       "      <td>21001970100</td>\n",
       "      <td>Census Tract 9701, Adair County, Kentucky</td>\n",
       "      <td>1727</td>\n",
       "    </tr>\n",
       "    <tr>\n",
       "      <th>1</th>\n",
       "      <td>1400000US21001970200</td>\n",
       "      <td>21001970200</td>\n",
       "      <td>Census Tract 9702, Adair County, Kentucky</td>\n",
       "      <td>1722</td>\n",
       "    </tr>\n",
       "    <tr>\n",
       "      <th>2</th>\n",
       "      <td>1400000US21001970300</td>\n",
       "      <td>21001970300</td>\n",
       "      <td>Census Tract 9703, Adair County, Kentucky</td>\n",
       "      <td>3016</td>\n",
       "    </tr>\n",
       "    <tr>\n",
       "      <th>4</th>\n",
       "      <td>1400000US21001970402</td>\n",
       "      <td>21001970402</td>\n",
       "      <td>Census Tract 9704.02, Adair County, Kentucky</td>\n",
       "      <td>4261</td>\n",
       "    </tr>\n",
       "    <tr>\n",
       "      <th>5</th>\n",
       "      <td>1400000US21001970500</td>\n",
       "      <td>21001970500</td>\n",
       "      <td>Census Tract 9705, Adair County, Kentucky</td>\n",
       "      <td>2457</td>\n",
       "    </tr>\n",
       "    <tr>\n",
       "      <th>6</th>\n",
       "      <td>1400000US21001970600</td>\n",
       "      <td>21001970600</td>\n",
       "      <td>Census Tract 9706, Adair County, Kentucky</td>\n",
       "      <td>1403</td>\n",
       "    </tr>\n",
       "    <tr>\n",
       "      <th>7</th>\n",
       "      <td>1400000US21003920100</td>\n",
       "      <td>21003920100</td>\n",
       "      <td>Census Tract 9201, Allen County, Kentucky</td>\n",
       "      <td>3185</td>\n",
       "    </tr>\n",
       "    <tr>\n",
       "      <th>8</th>\n",
       "      <td>1400000US21003920200</td>\n",
       "      <td>21003920200</td>\n",
       "      <td>Census Tract 9202, Allen County, Kentucky</td>\n",
       "      <td>2703</td>\n",
       "    </tr>\n",
       "    <tr>\n",
       "      <th>9</th>\n",
       "      <td>1400000US21003920300</td>\n",
       "      <td>21003920300</td>\n",
       "      <td>Census Tract 9203, Allen County, Kentucky</td>\n",
       "      <td>4685</td>\n",
       "    </tr>\n",
       "    <tr>\n",
       "      <th>10</th>\n",
       "      <td>1400000US21003920400</td>\n",
       "      <td>21003920400</td>\n",
       "      <td>Census Tract 9204, Allen County, Kentucky</td>\n",
       "      <td>4492</td>\n",
       "    </tr>\n",
       "    <tr>\n",
       "      <th>11</th>\n",
       "      <td>1400000US21003920500</td>\n",
       "      <td>21003920500</td>\n",
       "      <td>Census Tract 9205, Allen County, Kentucky</td>\n",
       "      <td>1600</td>\n",
       "    </tr>\n",
       "    <tr>\n",
       "      <th>12</th>\n",
       "      <td>1400000US21003920600</td>\n",
       "      <td>21003920600</td>\n",
       "      <td>Census Tract 9206, Allen County, Kentucky</td>\n",
       "      <td>3291</td>\n",
       "    </tr>\n",
       "    <tr>\n",
       "      <th>13</th>\n",
       "      <td>1400000US21005950100</td>\n",
       "      <td>21005950100</td>\n",
       "      <td>Census Tract 9501, Anderson County, Kentucky</td>\n",
       "      <td>8164</td>\n",
       "    </tr>\n",
       "    <tr>\n",
       "      <th>14</th>\n",
       "      <td>1400000US21005950201</td>\n",
       "      <td>21005950201</td>\n",
       "      <td>Census Tract 9502.01, Anderson County, Kentucky</td>\n",
       "      <td>5372</td>\n",
       "    </tr>\n",
       "    <tr>\n",
       "      <th>15</th>\n",
       "      <td>1400000US21005950202</td>\n",
       "      <td>21005950202</td>\n",
       "      <td>Census Tract 9502.02, Anderson County, Kentucky</td>\n",
       "      <td>3651</td>\n",
       "    </tr>\n",
       "    <tr>\n",
       "      <th>16</th>\n",
       "      <td>1400000US21005950300</td>\n",
       "      <td>21005950300</td>\n",
       "      <td>Census Tract 9503, Anderson County, Kentucky</td>\n",
       "      <td>1969</td>\n",
       "    </tr>\n",
       "    <tr>\n",
       "      <th>17</th>\n",
       "      <td>1400000US21005950400</td>\n",
       "      <td>21005950400</td>\n",
       "      <td>Census Tract 9504, Anderson County, Kentucky</td>\n",
       "      <td>2265</td>\n",
       "    </tr>\n",
       "    <tr>\n",
       "      <th>18</th>\n",
       "      <td>1400000US21007950100</td>\n",
       "      <td>21007950100</td>\n",
       "      <td>Census Tract 9501, Ballard County, Kentucky</td>\n",
       "      <td>4259</td>\n",
       "    </tr>\n",
       "    <tr>\n",
       "      <th>19</th>\n",
       "      <td>1400000US21007950200</td>\n",
       "      <td>21007950200</td>\n",
       "      <td>Census Tract 9502, Ballard County, Kentucky</td>\n",
       "      <td>1494</td>\n",
       "    </tr>\n",
       "    <tr>\n",
       "      <th>20</th>\n",
       "      <td>1400000US21007950300</td>\n",
       "      <td>21007950300</td>\n",
       "      <td>Census Tract 9503, Ballard County, Kentucky</td>\n",
       "      <td>2496</td>\n",
       "    </tr>\n",
       "    <tr>\n",
       "      <th>21</th>\n",
       "      <td>1400000US21009950100</td>\n",
       "      <td>21009950100</td>\n",
       "      <td>Census Tract 9501, Barren County, Kentucky</td>\n",
       "      <td>3592</td>\n",
       "    </tr>\n",
       "    <tr>\n",
       "      <th>22</th>\n",
       "      <td>1400000US21009950200</td>\n",
       "      <td>21009950200</td>\n",
       "      <td>Census Tract 9502, Barren County, Kentucky</td>\n",
       "      <td>3642</td>\n",
       "    </tr>\n",
       "    <tr>\n",
       "      <th>23</th>\n",
       "      <td>1400000US21009950300</td>\n",
       "      <td>21009950300</td>\n",
       "      <td>Census Tract 9503, Barren County, Kentucky</td>\n",
       "      <td>3065</td>\n",
       "    </tr>\n",
       "    <tr>\n",
       "      <th>24</th>\n",
       "      <td>1400000US21009950400</td>\n",
       "      <td>21009950400</td>\n",
       "      <td>Census Tract 9504, Barren County, Kentucky</td>\n",
       "      <td>5910</td>\n",
       "    </tr>\n",
       "    <tr>\n",
       "      <th>25</th>\n",
       "      <td>1400000US21009950500</td>\n",
       "      <td>21009950500</td>\n",
       "      <td>Census Tract 9505, Barren County, Kentucky</td>\n",
       "      <td>3698</td>\n",
       "    </tr>\n",
       "    <tr>\n",
       "      <th>26</th>\n",
       "      <td>1400000US21009950600</td>\n",
       "      <td>21009950600</td>\n",
       "      <td>Census Tract 9506, Barren County, Kentucky</td>\n",
       "      <td>5937</td>\n",
       "    </tr>\n",
       "    <tr>\n",
       "      <th>27</th>\n",
       "      <td>1400000US21009950700</td>\n",
       "      <td>21009950700</td>\n",
       "      <td>Census Tract 9507, Barren County, Kentucky</td>\n",
       "      <td>5878</td>\n",
       "    </tr>\n",
       "    <tr>\n",
       "      <th>28</th>\n",
       "      <td>1400000US21009950800</td>\n",
       "      <td>21009950800</td>\n",
       "      <td>Census Tract 9508, Barren County, Kentucky</td>\n",
       "      <td>3337</td>\n",
       "    </tr>\n",
       "    <tr>\n",
       "      <th>29</th>\n",
       "      <td>1400000US21009950900</td>\n",
       "      <td>21009950900</td>\n",
       "      <td>Census Tract 9509, Barren County, Kentucky</td>\n",
       "      <td>3607</td>\n",
       "    </tr>\n",
       "    <tr>\n",
       "      <th>30</th>\n",
       "      <td>1400000US21009951000</td>\n",
       "      <td>21009951000</td>\n",
       "      <td>Census Tract 9510, Barren County, Kentucky</td>\n",
       "      <td>3507</td>\n",
       "    </tr>\n",
       "    <tr>\n",
       "      <th>...</th>\n",
       "      <td>...</td>\n",
       "      <td>...</td>\n",
       "      <td>...</td>\n",
       "      <td>...</td>\n",
       "    </tr>\n",
       "    <tr>\n",
       "      <th>1085</th>\n",
       "      <td>1400000US21229930100</td>\n",
       "      <td>21229930100</td>\n",
       "      <td>Census Tract 9301, Washington County, Kentucky</td>\n",
       "      <td>2767</td>\n",
       "    </tr>\n",
       "    <tr>\n",
       "      <th>1086</th>\n",
       "      <td>1400000US21229930200</td>\n",
       "      <td>21229930200</td>\n",
       "      <td>Census Tract 9302, Washington County, Kentucky</td>\n",
       "      <td>6705</td>\n",
       "    </tr>\n",
       "    <tr>\n",
       "      <th>1087</th>\n",
       "      <td>1400000US21229930300</td>\n",
       "      <td>21229930300</td>\n",
       "      <td>Census Tract 9303, Washington County, Kentucky</td>\n",
       "      <td>2245</td>\n",
       "    </tr>\n",
       "    <tr>\n",
       "      <th>1088</th>\n",
       "      <td>1400000US21231920100</td>\n",
       "      <td>21231920100</td>\n",
       "      <td>Census Tract 9201, Wayne County, Kentucky</td>\n",
       "      <td>4666</td>\n",
       "    </tr>\n",
       "    <tr>\n",
       "      <th>1089</th>\n",
       "      <td>1400000US21231920200</td>\n",
       "      <td>21231920200</td>\n",
       "      <td>Census Tract 9202, Wayne County, Kentucky</td>\n",
       "      <td>6121</td>\n",
       "    </tr>\n",
       "    <tr>\n",
       "      <th>1090</th>\n",
       "      <td>1400000US21231920300</td>\n",
       "      <td>21231920300</td>\n",
       "      <td>Census Tract 9203, Wayne County, Kentucky</td>\n",
       "      <td>4063</td>\n",
       "    </tr>\n",
       "    <tr>\n",
       "      <th>1091</th>\n",
       "      <td>1400000US21231920400</td>\n",
       "      <td>21231920400</td>\n",
       "      <td>Census Tract 9204, Wayne County, Kentucky</td>\n",
       "      <td>3309</td>\n",
       "    </tr>\n",
       "    <tr>\n",
       "      <th>1092</th>\n",
       "      <td>1400000US21231920700</td>\n",
       "      <td>21231920700</td>\n",
       "      <td>Census Tract 9207, Wayne County, Kentucky</td>\n",
       "      <td>2654</td>\n",
       "    </tr>\n",
       "    <tr>\n",
       "      <th>1093</th>\n",
       "      <td>1400000US21233960100</td>\n",
       "      <td>21233960100</td>\n",
       "      <td>Census Tract 9601, Webster County, Kentucky</td>\n",
       "      <td>4584</td>\n",
       "    </tr>\n",
       "    <tr>\n",
       "      <th>1094</th>\n",
       "      <td>1400000US21233960200</td>\n",
       "      <td>21233960200</td>\n",
       "      <td>Census Tract 9602, Webster County, Kentucky</td>\n",
       "      <td>2606</td>\n",
       "    </tr>\n",
       "    <tr>\n",
       "      <th>1095</th>\n",
       "      <td>1400000US21233960300</td>\n",
       "      <td>21233960300</td>\n",
       "      <td>Census Tract 9603, Webster County, Kentucky</td>\n",
       "      <td>2435</td>\n",
       "    </tr>\n",
       "    <tr>\n",
       "      <th>1096</th>\n",
       "      <td>1400000US21233960400</td>\n",
       "      <td>21233960400</td>\n",
       "      <td>Census Tract 9604, Webster County, Kentucky</td>\n",
       "      <td>3996</td>\n",
       "    </tr>\n",
       "    <tr>\n",
       "      <th>1097</th>\n",
       "      <td>1400000US21235920100</td>\n",
       "      <td>21235920100</td>\n",
       "      <td>Census Tract 9201, Whitley County, Kentucky</td>\n",
       "      <td>2692</td>\n",
       "    </tr>\n",
       "    <tr>\n",
       "      <th>1098</th>\n",
       "      <td>1400000US21235920200</td>\n",
       "      <td>21235920200</td>\n",
       "      <td>Census Tract 9202, Whitley County, Kentucky</td>\n",
       "      <td>2808</td>\n",
       "    </tr>\n",
       "    <tr>\n",
       "      <th>1099</th>\n",
       "      <td>1400000US21235920300</td>\n",
       "      <td>21235920300</td>\n",
       "      <td>Census Tract 9203, Whitley County, Kentucky</td>\n",
       "      <td>6189</td>\n",
       "    </tr>\n",
       "    <tr>\n",
       "      <th>1100</th>\n",
       "      <td>1400000US21235920400</td>\n",
       "      <td>21235920400</td>\n",
       "      <td>Census Tract 9204, Whitley County, Kentucky</td>\n",
       "      <td>5899</td>\n",
       "    </tr>\n",
       "    <tr>\n",
       "      <th>1101</th>\n",
       "      <td>1400000US21235920500</td>\n",
       "      <td>21235920500</td>\n",
       "      <td>Census Tract 9205, Whitley County, Kentucky</td>\n",
       "      <td>6110</td>\n",
       "    </tr>\n",
       "    <tr>\n",
       "      <th>1102</th>\n",
       "      <td>1400000US21235920600</td>\n",
       "      <td>21235920600</td>\n",
       "      <td>Census Tract 9206, Whitley County, Kentucky</td>\n",
       "      <td>5230</td>\n",
       "    </tr>\n",
       "    <tr>\n",
       "      <th>1103</th>\n",
       "      <td>1400000US21235920700</td>\n",
       "      <td>21235920700</td>\n",
       "      <td>Census Tract 9207, Whitley County, Kentucky</td>\n",
       "      <td>4730</td>\n",
       "    </tr>\n",
       "    <tr>\n",
       "      <th>1104</th>\n",
       "      <td>1400000US21235920800</td>\n",
       "      <td>21235920800</td>\n",
       "      <td>Census Tract 9208, Whitley County, Kentucky</td>\n",
       "      <td>1979</td>\n",
       "    </tr>\n",
       "    <tr>\n",
       "      <th>1105</th>\n",
       "      <td>1400000US21237930100</td>\n",
       "      <td>21237930100</td>\n",
       "      <td>Census Tract 9301, Wolfe County, Kentucky</td>\n",
       "      <td>3273</td>\n",
       "    </tr>\n",
       "    <tr>\n",
       "      <th>1106</th>\n",
       "      <td>1400000US21237930200</td>\n",
       "      <td>21237930200</td>\n",
       "      <td>Census Tract 9302, Wolfe County, Kentucky</td>\n",
       "      <td>4082</td>\n",
       "    </tr>\n",
       "    <tr>\n",
       "      <th>1107</th>\n",
       "      <td>1400000US21239050103</td>\n",
       "      <td>21239050103</td>\n",
       "      <td>Census Tract 501.03, Woodford County, Kentucky</td>\n",
       "      <td>3144</td>\n",
       "    </tr>\n",
       "    <tr>\n",
       "      <th>1108</th>\n",
       "      <td>1400000US21239050104</td>\n",
       "      <td>21239050104</td>\n",
       "      <td>Census Tract 501.04, Woodford County, Kentucky</td>\n",
       "      <td>3927</td>\n",
       "    </tr>\n",
       "    <tr>\n",
       "      <th>1109</th>\n",
       "      <td>1400000US21239050105</td>\n",
       "      <td>21239050105</td>\n",
       "      <td>Census Tract 501.05, Woodford County, Kentucky</td>\n",
       "      <td>3139</td>\n",
       "    </tr>\n",
       "    <tr>\n",
       "      <th>1110</th>\n",
       "      <td>1400000US21239050106</td>\n",
       "      <td>21239050106</td>\n",
       "      <td>Census Tract 501.06, Woodford County, Kentucky</td>\n",
       "      <td>3261</td>\n",
       "    </tr>\n",
       "    <tr>\n",
       "      <th>1111</th>\n",
       "      <td>1400000US21239050107</td>\n",
       "      <td>21239050107</td>\n",
       "      <td>Census Tract 501.07, Woodford County, Kentucky</td>\n",
       "      <td>3757</td>\n",
       "    </tr>\n",
       "    <tr>\n",
       "      <th>1112</th>\n",
       "      <td>1400000US21239050200</td>\n",
       "      <td>21239050200</td>\n",
       "      <td>Census Tract 502, Woodford County, Kentucky</td>\n",
       "      <td>3533</td>\n",
       "    </tr>\n",
       "    <tr>\n",
       "      <th>1113</th>\n",
       "      <td>1400000US21239050300</td>\n",
       "      <td>21239050300</td>\n",
       "      <td>Census Tract 503, Woodford County, Kentucky</td>\n",
       "      <td>1899</td>\n",
       "    </tr>\n",
       "    <tr>\n",
       "      <th>1114</th>\n",
       "      <td>1400000US21239050400</td>\n",
       "      <td>21239050400</td>\n",
       "      <td>Census Tract 504, Woodford County, Kentucky</td>\n",
       "      <td>2279</td>\n",
       "    </tr>\n",
       "  </tbody>\n",
       "</table>\n",
       "<p>1114 rows × 4 columns</p>\n",
       "</div>"
      ],
      "text/plain": [
       "                        Id          Id2  \\\n",
       "0     1400000US21001970100  21001970100   \n",
       "1     1400000US21001970200  21001970200   \n",
       "2     1400000US21001970300  21001970300   \n",
       "4     1400000US21001970402  21001970402   \n",
       "5     1400000US21001970500  21001970500   \n",
       "6     1400000US21001970600  21001970600   \n",
       "7     1400000US21003920100  21003920100   \n",
       "8     1400000US21003920200  21003920200   \n",
       "9     1400000US21003920300  21003920300   \n",
       "10    1400000US21003920400  21003920400   \n",
       "11    1400000US21003920500  21003920500   \n",
       "12    1400000US21003920600  21003920600   \n",
       "13    1400000US21005950100  21005950100   \n",
       "14    1400000US21005950201  21005950201   \n",
       "15    1400000US21005950202  21005950202   \n",
       "16    1400000US21005950300  21005950300   \n",
       "17    1400000US21005950400  21005950400   \n",
       "18    1400000US21007950100  21007950100   \n",
       "19    1400000US21007950200  21007950200   \n",
       "20    1400000US21007950300  21007950300   \n",
       "21    1400000US21009950100  21009950100   \n",
       "22    1400000US21009950200  21009950200   \n",
       "23    1400000US21009950300  21009950300   \n",
       "24    1400000US21009950400  21009950400   \n",
       "25    1400000US21009950500  21009950500   \n",
       "26    1400000US21009950600  21009950600   \n",
       "27    1400000US21009950700  21009950700   \n",
       "28    1400000US21009950800  21009950800   \n",
       "29    1400000US21009950900  21009950900   \n",
       "30    1400000US21009951000  21009951000   \n",
       "...                    ...          ...   \n",
       "1085  1400000US21229930100  21229930100   \n",
       "1086  1400000US21229930200  21229930200   \n",
       "1087  1400000US21229930300  21229930300   \n",
       "1088  1400000US21231920100  21231920100   \n",
       "1089  1400000US21231920200  21231920200   \n",
       "1090  1400000US21231920300  21231920300   \n",
       "1091  1400000US21231920400  21231920400   \n",
       "1092  1400000US21231920700  21231920700   \n",
       "1093  1400000US21233960100  21233960100   \n",
       "1094  1400000US21233960200  21233960200   \n",
       "1095  1400000US21233960300  21233960300   \n",
       "1096  1400000US21233960400  21233960400   \n",
       "1097  1400000US21235920100  21235920100   \n",
       "1098  1400000US21235920200  21235920200   \n",
       "1099  1400000US21235920300  21235920300   \n",
       "1100  1400000US21235920400  21235920400   \n",
       "1101  1400000US21235920500  21235920500   \n",
       "1102  1400000US21235920600  21235920600   \n",
       "1103  1400000US21235920700  21235920700   \n",
       "1104  1400000US21235920800  21235920800   \n",
       "1105  1400000US21237930100  21237930100   \n",
       "1106  1400000US21237930200  21237930200   \n",
       "1107  1400000US21239050103  21239050103   \n",
       "1108  1400000US21239050104  21239050104   \n",
       "1109  1400000US21239050105  21239050105   \n",
       "1110  1400000US21239050106  21239050106   \n",
       "1111  1400000US21239050107  21239050107   \n",
       "1112  1400000US21239050200  21239050200   \n",
       "1113  1400000US21239050300  21239050300   \n",
       "1114  1400000US21239050400  21239050400   \n",
       "\n",
       "                                            Geography  Population  \n",
       "0           Census Tract 9701, Adair County, Kentucky        1727  \n",
       "1           Census Tract 9702, Adair County, Kentucky        1722  \n",
       "2           Census Tract 9703, Adair County, Kentucky        3016  \n",
       "4        Census Tract 9704.02, Adair County, Kentucky        4261  \n",
       "5           Census Tract 9705, Adair County, Kentucky        2457  \n",
       "6           Census Tract 9706, Adair County, Kentucky        1403  \n",
       "7           Census Tract 9201, Allen County, Kentucky        3185  \n",
       "8           Census Tract 9202, Allen County, Kentucky        2703  \n",
       "9           Census Tract 9203, Allen County, Kentucky        4685  \n",
       "10          Census Tract 9204, Allen County, Kentucky        4492  \n",
       "11          Census Tract 9205, Allen County, Kentucky        1600  \n",
       "12          Census Tract 9206, Allen County, Kentucky        3291  \n",
       "13       Census Tract 9501, Anderson County, Kentucky        8164  \n",
       "14    Census Tract 9502.01, Anderson County, Kentucky        5372  \n",
       "15    Census Tract 9502.02, Anderson County, Kentucky        3651  \n",
       "16       Census Tract 9503, Anderson County, Kentucky        1969  \n",
       "17       Census Tract 9504, Anderson County, Kentucky        2265  \n",
       "18        Census Tract 9501, Ballard County, Kentucky        4259  \n",
       "19        Census Tract 9502, Ballard County, Kentucky        1494  \n",
       "20        Census Tract 9503, Ballard County, Kentucky        2496  \n",
       "21         Census Tract 9501, Barren County, Kentucky        3592  \n",
       "22         Census Tract 9502, Barren County, Kentucky        3642  \n",
       "23         Census Tract 9503, Barren County, Kentucky        3065  \n",
       "24         Census Tract 9504, Barren County, Kentucky        5910  \n",
       "25         Census Tract 9505, Barren County, Kentucky        3698  \n",
       "26         Census Tract 9506, Barren County, Kentucky        5937  \n",
       "27         Census Tract 9507, Barren County, Kentucky        5878  \n",
       "28         Census Tract 9508, Barren County, Kentucky        3337  \n",
       "29         Census Tract 9509, Barren County, Kentucky        3607  \n",
       "30         Census Tract 9510, Barren County, Kentucky        3507  \n",
       "...                                               ...         ...  \n",
       "1085   Census Tract 9301, Washington County, Kentucky        2767  \n",
       "1086   Census Tract 9302, Washington County, Kentucky        6705  \n",
       "1087   Census Tract 9303, Washington County, Kentucky        2245  \n",
       "1088        Census Tract 9201, Wayne County, Kentucky        4666  \n",
       "1089        Census Tract 9202, Wayne County, Kentucky        6121  \n",
       "1090        Census Tract 9203, Wayne County, Kentucky        4063  \n",
       "1091        Census Tract 9204, Wayne County, Kentucky        3309  \n",
       "1092        Census Tract 9207, Wayne County, Kentucky        2654  \n",
       "1093      Census Tract 9601, Webster County, Kentucky        4584  \n",
       "1094      Census Tract 9602, Webster County, Kentucky        2606  \n",
       "1095      Census Tract 9603, Webster County, Kentucky        2435  \n",
       "1096      Census Tract 9604, Webster County, Kentucky        3996  \n",
       "1097      Census Tract 9201, Whitley County, Kentucky        2692  \n",
       "1098      Census Tract 9202, Whitley County, Kentucky        2808  \n",
       "1099      Census Tract 9203, Whitley County, Kentucky        6189  \n",
       "1100      Census Tract 9204, Whitley County, Kentucky        5899  \n",
       "1101      Census Tract 9205, Whitley County, Kentucky        6110  \n",
       "1102      Census Tract 9206, Whitley County, Kentucky        5230  \n",
       "1103      Census Tract 9207, Whitley County, Kentucky        4730  \n",
       "1104      Census Tract 9208, Whitley County, Kentucky        1979  \n",
       "1105        Census Tract 9301, Wolfe County, Kentucky        3273  \n",
       "1106        Census Tract 9302, Wolfe County, Kentucky        4082  \n",
       "1107   Census Tract 501.03, Woodford County, Kentucky        3144  \n",
       "1108   Census Tract 501.04, Woodford County, Kentucky        3927  \n",
       "1109   Census Tract 501.05, Woodford County, Kentucky        3139  \n",
       "1110   Census Tract 501.06, Woodford County, Kentucky        3261  \n",
       "1111   Census Tract 501.07, Woodford County, Kentucky        3757  \n",
       "1112      Census Tract 502, Woodford County, Kentucky        3533  \n",
       "1113      Census Tract 503, Woodford County, Kentucky        1899  \n",
       "1114      Census Tract 504, Woodford County, Kentucky        2279  \n",
       "\n",
       "[1114 rows x 4 columns]"
      ]
     },
     "execution_count": 29,
     "metadata": {},
     "output_type": "execute_result"
    }
   ],
   "source": [
    "df2=df.drop(3)\n",
    "df2"
   ]
  },
  {
   "cell_type": "code",
   "execution_count": 32,
   "metadata": {
    "collapsed": false
   },
   "outputs": [
    {
     "data": {
      "text/plain": [
       "Id                                    1400000US21001970402\n",
       "Id2                                            21001970402\n",
       "Geography     Census Tract 9704.02, Adair County, Kentucky\n",
       "Population                                            4261\n",
       "Name: 4, dtype: object"
      ]
     },
     "execution_count": 32,
     "metadata": {},
     "output_type": "execute_result"
    }
   ],
   "source": [
    "df2.iloc[3]"
   ]
  },
  {
   "cell_type": "code",
   "execution_count": 8,
   "metadata": {
    "collapsed": false
   },
   "outputs": [
    {
     "data": {
      "text/html": [
       "<div>\n",
       "<table border=\"1\" class=\"dataframe\">\n",
       "  <thead>\n",
       "    <tr style=\"text-align: right;\">\n",
       "      <th></th>\n",
       "      <th>Id</th>\n",
       "      <th>Id2</th>\n",
       "      <th>Geography</th>\n",
       "      <th>Population</th>\n",
       "    </tr>\n",
       "  </thead>\n",
       "  <tbody>\n",
       "    <tr>\n",
       "      <th>64</th>\n",
       "      <td>1400000US21015980100</td>\n",
       "      <td>21015980100</td>\n",
       "      <td>Census Tract 9801, Boone County, Kentucky</td>\n",
       "      <td>0</td>\n",
       "    </tr>\n",
       "    <tr>\n",
       "      <th>124</th>\n",
       "      <td>1400000US21029980100</td>\n",
       "      <td>21029980100</td>\n",
       "      <td>Census Tract 9801, Bullitt County, Kentucky</td>\n",
       "      <td>0</td>\n",
       "    </tr>\n",
       "    <tr>\n",
       "      <th>203</th>\n",
       "      <td>1400000US21047980100</td>\n",
       "      <td>21047980100</td>\n",
       "      <td>Census Tract 9801, Christian County, Kentucky</td>\n",
       "      <td>0</td>\n",
       "    </tr>\n",
       "    <tr>\n",
       "      <th>255</th>\n",
       "      <td>1400000US21061980100</td>\n",
       "      <td>21061980100</td>\n",
       "      <td>Census Tract 9801, Edmonson County, Kentucky</td>\n",
       "      <td>8</td>\n",
       "    </tr>\n",
       "    <tr>\n",
       "      <th>678</th>\n",
       "      <td>1400000US21111980100</td>\n",
       "      <td>21111980100</td>\n",
       "      <td>Census Tract 9801, Jefferson County, Kentucky</td>\n",
       "      <td>0</td>\n",
       "    </tr>\n",
       "    <tr>\n",
       "      <th>803</th>\n",
       "      <td>1400000US21143980100</td>\n",
       "      <td>21143980100</td>\n",
       "      <td>Census Tract 9801, Lyon County, Kentucky</td>\n",
       "      <td>0</td>\n",
       "    </tr>\n",
       "    <tr>\n",
       "      <th>878</th>\n",
       "      <td>1400000US21163980100</td>\n",
       "      <td>21163980100</td>\n",
       "      <td>Census Tract 9801, Meade County, Kentucky</td>\n",
       "      <td>9</td>\n",
       "    </tr>\n",
       "    <tr>\n",
       "      <th>1053</th>\n",
       "      <td>1400000US21221980100</td>\n",
       "      <td>21221980100</td>\n",
       "      <td>Census Tract 9801, Trigg County, Kentucky</td>\n",
       "      <td>18</td>\n",
       "    </tr>\n",
       "    <tr>\n",
       "      <th>1054</th>\n",
       "      <td>1400000US21221980200</td>\n",
       "      <td>21221980200</td>\n",
       "      <td>Census Tract 9802, Trigg County, Kentucky</td>\n",
       "      <td>6</td>\n",
       "    </tr>\n",
       "  </tbody>\n",
       "</table>\n",
       "</div>"
      ],
      "text/plain": [
       "                        Id          Id2  \\\n",
       "64    1400000US21015980100  21015980100   \n",
       "124   1400000US21029980100  21029980100   \n",
       "203   1400000US21047980100  21047980100   \n",
       "255   1400000US21061980100  21061980100   \n",
       "678   1400000US21111980100  21111980100   \n",
       "803   1400000US21143980100  21143980100   \n",
       "878   1400000US21163980100  21163980100   \n",
       "1053  1400000US21221980100  21221980100   \n",
       "1054  1400000US21221980200  21221980200   \n",
       "\n",
       "                                          Geography  Population  \n",
       "64        Census Tract 9801, Boone County, Kentucky           0  \n",
       "124     Census Tract 9801, Bullitt County, Kentucky           0  \n",
       "203   Census Tract 9801, Christian County, Kentucky           0  \n",
       "255    Census Tract 9801, Edmonson County, Kentucky           8  \n",
       "678   Census Tract 9801, Jefferson County, Kentucky           0  \n",
       "803        Census Tract 9801, Lyon County, Kentucky           0  \n",
       "878       Census Tract 9801, Meade County, Kentucky           9  \n",
       "1053      Census Tract 9801, Trigg County, Kentucky          18  \n",
       "1054      Census Tract 9802, Trigg County, Kentucky           6  "
      ]
     },
     "execution_count": 8,
     "metadata": {},
     "output_type": "execute_result"
    }
   ],
   "source": [
    "df[df['Population'] < 200]"
   ]
  },
  {
   "cell_type": "code",
   "execution_count": 9,
   "metadata": {
    "collapsed": false
   },
   "outputs": [
    {
     "data": {
      "text/html": [
       "<div>\n",
       "<table border=\"1\" class=\"dataframe\">\n",
       "  <thead>\n",
       "    <tr style=\"text-align: right;\">\n",
       "      <th></th>\n",
       "      <th>Id</th>\n",
       "      <th>Id2</th>\n",
       "      <th>Geography</th>\n",
       "      <th>Population</th>\n",
       "    </tr>\n",
       "  </thead>\n",
       "  <tbody>\n",
       "    <tr>\n",
       "      <th>64</th>\n",
       "      <td>1400000US21015980100</td>\n",
       "      <td>21015980100</td>\n",
       "      <td>Census Tract 9801, Boone County, Kentucky</td>\n",
       "      <td>0</td>\n",
       "    </tr>\n",
       "  </tbody>\n",
       "</table>\n",
       "</div>"
      ],
      "text/plain": [
       "                      Id          Id2  \\\n",
       "64  1400000US21015980100  21015980100   \n",
       "\n",
       "                                    Geography  Population  \n",
       "64  Census Tract 9801, Boone County, Kentucky           0  "
      ]
     },
     "execution_count": 9,
     "metadata": {},
     "output_type": "execute_result"
    }
   ],
   "source": [
    "df[df['Id2']==21015980100]"
   ]
  },
  {
   "cell_type": "markdown",
   "metadata": {},
   "source": [
    "Here we show how to set a value of a cell in the table, identifying a specific row by index label, and setting its population, in this case to a None value, which Pandas interprets as a NaN (missing value)."
   ]
  },
  {
   "cell_type": "code",
   "execution_count": 10,
   "metadata": {
    "collapsed": false
   },
   "outputs": [],
   "source": [
    "df.loc[688,'Population'] = None"
   ]
  },
  {
   "cell_type": "markdown",
   "metadata": {},
   "source": [
    "We can filter for values that are Null"
   ]
  },
  {
   "cell_type": "code",
   "execution_count": 11,
   "metadata": {
    "collapsed": false
   },
   "outputs": [
    {
     "data": {
      "text/html": [
       "<div>\n",
       "<table border=\"1\" class=\"dataframe\">\n",
       "  <thead>\n",
       "    <tr style=\"text-align: right;\">\n",
       "      <th></th>\n",
       "      <th>Id</th>\n",
       "      <th>Id2</th>\n",
       "      <th>Geography</th>\n",
       "      <th>Population</th>\n",
       "    </tr>\n",
       "  </thead>\n",
       "  <tbody>\n",
       "    <tr>\n",
       "      <th>688</th>\n",
       "      <td>1400000US21115960100</td>\n",
       "      <td>21115960100</td>\n",
       "      <td>Census Tract 9601, Johnson County, Kentucky</td>\n",
       "      <td>NaN</td>\n",
       "    </tr>\n",
       "  </tbody>\n",
       "</table>\n",
       "</div>"
      ],
      "text/plain": [
       "                       Id          Id2  \\\n",
       "688  1400000US21115960100  21115960100   \n",
       "\n",
       "                                       Geography  Population  \n",
       "688  Census Tract 9601, Johnson County, Kentucky         NaN  "
      ]
     },
     "execution_count": 11,
     "metadata": {},
     "output_type": "execute_result"
    }
   ],
   "source": [
    "df[df['Population'].isnull()]"
   ]
  },
  {
   "cell_type": "markdown",
   "metadata": {},
   "source": [
    "Or more commonly, filter out the null values."
   ]
  },
  {
   "cell_type": "code",
   "execution_count": null,
   "metadata": {
    "collapsed": false
   },
   "outputs": [],
   "source": [
    "df[df['Population'].notnull()]"
   ]
  },
  {
   "cell_type": "markdown",
   "metadata": {},
   "source": [
    "Here we find and print records that are in Fayette County, using the str attribute and 'contains' to search for the county name in geodisplay."
   ]
  },
  {
   "cell_type": "code",
   "execution_count": null,
   "metadata": {
    "collapsed": false
   },
   "outputs": [],
   "source": [
    "df[df['Geography'].str.contains('Fayette County')]"
   ]
  },
  {
   "cell_type": "markdown",
   "metadata": {},
   "source": [
    "We can find the unique values of a column (not very interesting in this particular case)"
   ]
  },
  {
   "cell_type": "markdown",
   "metadata": {},
   "source": [
    "We saw last time how to use the str attribute to do string manipulation, such as to create a new column.  We need to explore some more advanced string processing, but let's use a smaller dataframe for that."
   ]
  },
  {
   "cell_type": "code",
   "execution_count": null,
   "metadata": {
    "collapsed": false
   },
   "outputs": [],
   "source": [
    "df['state'] = df['Geography'].str.split(',').str[2]\n",
    "df[:5]"
   ]
  },
  {
   "cell_type": "code",
   "execution_count": null,
   "metadata": {
    "collapsed": false
   },
   "outputs": [],
   "source": [
    "df['county'] = df['Geography'].str.split(',').str[1]\n",
    "df[:5]"
   ]
  },
  {
   "cell_type": "code",
   "execution_count": null,
   "metadata": {
    "collapsed": false
   },
   "outputs": [],
   "source": [
    "df['county'].unique()"
   ]
  },
  {
   "cell_type": "markdown",
   "metadata": {},
   "source": [
    "And count how many times each unique value is in the data"
   ]
  },
  {
   "cell_type": "code",
   "execution_count": null,
   "metadata": {
    "collapsed": false
   },
   "outputs": [],
   "source": [
    "df['county'].value_counts()"
   ]
  },
  {
   "cell_type": "markdown",
   "metadata": {},
   "source": [
    "### More complex use of Indexing and String Manipulation -- Cleaning the Bedroom Field in the Craigslist data"
   ]
  },
  {
   "cell_type": "code",
   "execution_count": 71,
   "metadata": {
    "collapsed": false
   },
   "outputs": [
    {
     "data": {
      "text/html": [
       "<div>\n",
       "<table border=\"1\" class=\"dataframe\">\n",
       "  <thead>\n",
       "    <tr style=\"text-align: right;\">\n",
       "      <th></th>\n",
       "      <th>neighborhood</th>\n",
       "      <th>title</th>\n",
       "      <th>price</th>\n",
       "      <th>bedrooms</th>\n",
       "      <th>pid</th>\n",
       "      <th>longitude</th>\n",
       "      <th>date</th>\n",
       "      <th>link</th>\n",
       "      <th>latitude</th>\n",
       "      <th>sqft</th>\n",
       "      <th>sourcepage</th>\n",
       "    </tr>\n",
       "  </thead>\n",
       "  <tbody>\n",
       "    <tr>\n",
       "      <th>0</th>\n",
       "      <td>(SOMA / south beach)</td>\n",
       "      <td>1bed + Den, 1bath at Mission Bay</td>\n",
       "      <td>$2895</td>\n",
       "      <td>/ 1br - 950ft² -</td>\n",
       "      <td>4046628359</td>\n",
       "      <td>-122.399663</td>\n",
       "      <td>Sep  4 2013</td>\n",
       "      <td>/sfc/apa/4046628359.html</td>\n",
       "      <td>37.774623</td>\n",
       "      <td>/ 1br - 950ft² -</td>\n",
       "      <td>http://sfbay.craigslist.org/sfc/apa/</td>\n",
       "    </tr>\n",
       "    <tr>\n",
       "      <th>1</th>\n",
       "      <td>(SOMA / south beach)</td>\n",
       "      <td>Love where you live!</td>\n",
       "      <td>$3354</td>\n",
       "      <td>/ 1br - 710ft² -</td>\n",
       "      <td>4046761563</td>\n",
       "      <td>NaN</td>\n",
       "      <td>Sep  4 2013</td>\n",
       "      <td>/sfc/apa/4046761563.html</td>\n",
       "      <td>NaN</td>\n",
       "      <td>/ 1br - 710ft² -</td>\n",
       "      <td>http://sfbay.craigslist.org/sfc/apa/</td>\n",
       "    </tr>\n",
       "    <tr>\n",
       "      <th>2</th>\n",
       "      <td>(inner sunset / UCSF)</td>\n",
       "      <td>We Welcome Your Furry Friends! Call Today!</td>\n",
       "      <td>$2865</td>\n",
       "      <td>/ 1br - 644ft² -</td>\n",
       "      <td>4046661504</td>\n",
       "      <td>-122.470727</td>\n",
       "      <td>Sep  4 2013</td>\n",
       "      <td>/sfc/apa/4046661504.html</td>\n",
       "      <td>37.765739</td>\n",
       "      <td>/ 1br - 644ft² -</td>\n",
       "      <td>http://sfbay.craigslist.org/sfc/apa/</td>\n",
       "    </tr>\n",
       "    <tr>\n",
       "      <th>3</th>\n",
       "      <td>(financial district)</td>\n",
       "      <td>Golden Gateway Commons | 2BR + office townhous...</td>\n",
       "      <td>$5500</td>\n",
       "      <td>/ 2br - 1450ft² -</td>\n",
       "      <td>4036170429</td>\n",
       "      <td>NaN</td>\n",
       "      <td>Sep  4 2013</td>\n",
       "      <td>/sfc/apa/4036170429.html</td>\n",
       "      <td>NaN</td>\n",
       "      <td>/ 2br - 1450ft² -</td>\n",
       "      <td>http://sfbay.craigslist.org/sfc/apa/</td>\n",
       "    </tr>\n",
       "    <tr>\n",
       "      <th>4</th>\n",
       "      <td>(lower nob hill)</td>\n",
       "      <td>Experience Luxury Living in San Fransisco!</td>\n",
       "      <td>$3892</td>\n",
       "      <td>/ 2br -</td>\n",
       "      <td>4046732678</td>\n",
       "      <td>NaN</td>\n",
       "      <td>Sep  4 2013</td>\n",
       "      <td>/sfc/apa/4046732678.html</td>\n",
       "      <td>NaN</td>\n",
       "      <td>/ 2br -</td>\n",
       "      <td>http://sfbay.craigslist.org/sfc/apa/</td>\n",
       "    </tr>\n",
       "  </tbody>\n",
       "</table>\n",
       "</div>"
      ],
      "text/plain": [
       "             neighborhood                                              title  \\\n",
       "0    (SOMA / south beach)                   1bed + Den, 1bath at Mission Bay   \n",
       "1    (SOMA / south beach)                               Love where you live!   \n",
       "2   (inner sunset / UCSF)         We Welcome Your Furry Friends! Call Today!   \n",
       "3    (financial district)  Golden Gateway Commons | 2BR + office townhous...   \n",
       "4        (lower nob hill)         Experience Luxury Living in San Fransisco!   \n",
       "\n",
       "   price                  bedrooms         pid   longitude         date  \\\n",
       "0  $2895      / 1br - 950ft² -      4046628359 -122.399663  Sep  4 2013   \n",
       "1  $3354      / 1br - 710ft² -      4046761563         NaN  Sep  4 2013   \n",
       "2  $2865      / 1br - 644ft² -      4046661504 -122.470727  Sep  4 2013   \n",
       "3  $5500     / 2br - 1450ft² -      4036170429         NaN  Sep  4 2013   \n",
       "4  $3892               / 2br -      4046732678         NaN  Sep  4 2013   \n",
       "\n",
       "                       link   latitude                      sqft  \\\n",
       "0  /sfc/apa/4046628359.html  37.774623      / 1br - 950ft² -       \n",
       "1  /sfc/apa/4046761563.html        NaN      / 1br - 710ft² -       \n",
       "2  /sfc/apa/4046661504.html  37.765739      / 1br - 644ft² -       \n",
       "3  /sfc/apa/4036170429.html        NaN     / 2br - 1450ft² -       \n",
       "4  /sfc/apa/4046732678.html        NaN               / 2br -       \n",
       "\n",
       "                             sourcepage  \n",
       "0  http://sfbay.craigslist.org/sfc/apa/  \n",
       "1  http://sfbay.craigslist.org/sfc/apa/  \n",
       "2  http://sfbay.craigslist.org/sfc/apa/  \n",
       "3  http://sfbay.craigslist.org/sfc/apa/  \n",
       "4  http://sfbay.craigslist.org/sfc/apa/  "
      ]
     },
     "execution_count": 71,
     "metadata": {},
     "output_type": "execute_result"
    }
   ],
   "source": [
    "import re as re, pandas as pd, numpy as np\n",
    "cl = pd.read_csv('items.csv')\n",
    "cl.head()"
   ]
  },
  {
   "cell_type": "markdown",
   "metadata": {},
   "source": [
    "This is a worked part of your assignment for this week.  Here is a code snippet that uses some of what we just learned above, and extends it to clean the bedroom field in this data.  Adapting it to clean sqft remains for you to do in the assignment...\n",
    "\n",
    "Below are three different ways to do this.  The first involves looping over the index of the dataframe, and finding the beginning and end of the substring we are looking for, to isolate the bedrooms value."
   ]
  },
  {
   "cell_type": "code",
   "execution_count": 72,
   "metadata": {
    "collapsed": false
   },
   "outputs": [
    {
     "data": {
      "text/plain": [
       "0      1\n",
       "1      1\n",
       "2      1\n",
       "3      2\n",
       "4      2\n",
       "5      1\n",
       "6    NaN\n",
       "7      1\n",
       "8      2\n",
       "Name: bedrooms, dtype: object"
      ]
     },
     "execution_count": 72,
     "metadata": {},
     "output_type": "execute_result"
    }
   ],
   "source": [
    "for label in cl['bedrooms'].index:\n",
    "    if isinstance(cl['bedrooms'][label], str) and not pd.isnull(cl['bedrooms'][label]):\n",
    "        end = cl['bedrooms'][label].find('br')\n",
    "        if end == -1:\n",
    "            cl.loc[label,'bedrooms'] = np.nan\n",
    "        else:\n",
    "            start = cl['bedrooms'][label].find('/ ') + 2\n",
    "            cl.loc[label,'bedrooms'] = int(cl['bedrooms'][label][start: end])\n",
    "cl['bedrooms'][:9]"
   ]
  },
  {
   "cell_type": "markdown",
   "metadata": {},
   "source": [
    "Here is a second way to do this that is much more elegant, and in some ways much simpler since it does not require looping over the index values.  It uses the Series map method to apply an element-wise function.  This is covered briefly on page 133 of Pandas for Data Analysis, and more exensively in online documentation."
   ]
  },
  {
   "cell_type": "code",
   "execution_count": 73,
   "metadata": {
    "collapsed": false
   },
   "outputs": [
    {
     "data": {
      "text/plain": [
       "0    1.0\n",
       "1    1.0\n",
       "2    1.0\n",
       "3    2.0\n",
       "4    2.0\n",
       "5    1.0\n",
       "6    NaN\n",
       "7    1.0\n",
       "8    2.0\n",
       "Name: bedrooms, dtype: float64"
      ]
     },
     "execution_count": 73,
     "metadata": {},
     "output_type": "execute_result"
    }
   ],
   "source": [
    "cl = pd.read_csv('items.csv')\n",
    "def clean_br(value):\n",
    "    if isinstance(value, str):\n",
    "        end = value.find('br')\n",
    "        if end == -1:\n",
    "            return None\n",
    "        else:\n",
    "            start = value.find('/') + 2\n",
    "            return int(value[start:end])\n",
    "cl['bedrooms'] = cl['bedrooms'].map(clean_br)\n",
    "cl['bedrooms'][:9]"
   ]
  },
  {
   "cell_type": "markdown",
   "metadata": {},
   "source": [
    "The third way to do this is using Regular Expressions (regex).  It is covered on pages 207-210.  It is powerful and concise, but the syntax is more cryptic."
   ]
  },
  {
   "cell_type": "code",
   "execution_count": 66,
   "metadata": {
    "collapsed": false
   },
   "outputs": [
    {
     "data": {
      "text/plain": [
       "0      1\n",
       "1      1\n",
       "2      1\n",
       "3      2\n",
       "4      2\n",
       "5      1\n",
       "6    NaN\n",
       "7      1\n",
       "8      2\n",
       "Name: bedrooms, dtype: object"
      ]
     },
     "execution_count": 66,
     "metadata": {},
     "output_type": "execute_result"
    }
   ],
   "source": [
    "cl = pd.read_csv('items.csv')\n",
    "for i in cl['bedrooms'].index:\n",
    "    r = re.search('(?<=\\/ )(.*)(?=br)', cl.loc[i,'bedrooms'])\n",
    "    cl.loc[i,'bedrooms'] = r.group(0) if r else np.nan\n",
    "\n",
    "cl['bedrooms'][:9]"
   ]
  },
  {
   "cell_type": "markdown",
   "metadata": {},
   "source": [
    "## Working with Pandas -- an in-class working session"
   ]
  },
  {
   "cell_type": "markdown",
   "metadata": {},
   "source": [
    "OK, let's create a DataFrame from a dictionary, following the example on pg 116 of Python for Data Analysis (PDA)."
   ]
  },
  {
   "cell_type": "code",
   "execution_count": 85,
   "metadata": {
    "collapsed": false
   },
   "outputs": [],
   "source": [
    "data = {'state': ['Ohio', 'Ohio', 'Ohio', 'Nevada', 'Nevada'], 'year': [2000, 2001, 2002, 2001, 2002],\n",
    "'pop': [1.5, 1.7, 3.6, 2.4, 2.9]}\n",
    "df = DataFrame(data)"
   ]
  },
  {
   "cell_type": "markdown",
   "metadata": {},
   "source": [
    "Explain the contents and structure of 'data'\n",
    "\n",
    "What does 'DataFrame(data)' do? What if we did not begin that line with 'df ='?\n",
    "\n",
    "Look at the contents of df, using just df by itself, and 'print df'.  "
   ]
  },
  {
   "cell_type": "code",
   "execution_count": 75,
   "metadata": {
    "collapsed": false
   },
   "outputs": [
    {
     "data": {
      "text/html": [
       "<div>\n",
       "<table border=\"1\" class=\"dataframe\">\n",
       "  <thead>\n",
       "    <tr style=\"text-align: right;\">\n",
       "      <th></th>\n",
       "      <th>pop</th>\n",
       "      <th>state</th>\n",
       "      <th>year</th>\n",
       "    </tr>\n",
       "  </thead>\n",
       "  <tbody>\n",
       "    <tr>\n",
       "      <th>0</th>\n",
       "      <td>1.5</td>\n",
       "      <td>Ohio</td>\n",
       "      <td>2000</td>\n",
       "    </tr>\n",
       "    <tr>\n",
       "      <th>1</th>\n",
       "      <td>1.7</td>\n",
       "      <td>Ohio</td>\n",
       "      <td>2001</td>\n",
       "    </tr>\n",
       "    <tr>\n",
       "      <th>2</th>\n",
       "      <td>3.6</td>\n",
       "      <td>Ohio</td>\n",
       "      <td>2002</td>\n",
       "    </tr>\n",
       "    <tr>\n",
       "      <th>3</th>\n",
       "      <td>2.4</td>\n",
       "      <td>Nevada</td>\n",
       "      <td>2001</td>\n",
       "    </tr>\n",
       "    <tr>\n",
       "      <th>4</th>\n",
       "      <td>2.9</td>\n",
       "      <td>Nevada</td>\n",
       "      <td>2002</td>\n",
       "    </tr>\n",
       "  </tbody>\n",
       "</table>\n",
       "</div>"
      ],
      "text/plain": [
       "   pop   state  year\n",
       "0  1.5    Ohio  2000\n",
       "1  1.7    Ohio  2001\n",
       "2  3.6    Ohio  2002\n",
       "3  2.4  Nevada  2001\n",
       "4  2.9  Nevada  2002"
      ]
     },
     "execution_count": 75,
     "metadata": {},
     "output_type": "execute_result"
    }
   ],
   "source": [
    "df"
   ]
  },
  {
   "cell_type": "markdown",
   "metadata": {},
   "source": [
    "We can refer to a column in two ways:"
   ]
  },
  {
   "cell_type": "code",
   "execution_count": 76,
   "metadata": {
    "collapsed": false
   },
   "outputs": [
    {
     "data": {
      "text/plain": [
       "0      Ohio\n",
       "1      Ohio\n",
       "2      Ohio\n",
       "3    Nevada\n",
       "4    Nevada\n",
       "Name: state, dtype: object"
      ]
     },
     "execution_count": 76,
     "metadata": {},
     "output_type": "execute_result"
    }
   ],
   "source": [
    "df['state']"
   ]
  },
  {
   "cell_type": "code",
   "execution_count": null,
   "metadata": {
    "collapsed": false
   },
   "outputs": [],
   "source": [
    "df.state"
   ]
  },
  {
   "cell_type": "markdown",
   "metadata": {},
   "source": [
    "We can step through the rows in a dataframe"
   ]
  },
  {
   "cell_type": "code",
   "execution_count": 78,
   "metadata": {
    "collapsed": false
   },
   "outputs": [
    {
     "name": "stdout",
     "output_type": "stream",
     "text": [
      "Ohio\n",
      "Ohio\n",
      "Ohio\n",
      "Nevada\n",
      "Nevada\n"
     ]
    }
   ],
   "source": [
    "for label in df.state.index:\n",
    "    print(df.state[label])"
   ]
  },
  {
   "cell_type": "markdown",
   "metadata": {},
   "source": [
    "And find the index value within each entry of a specific substring"
   ]
  },
  {
   "cell_type": "code",
   "execution_count": 79,
   "metadata": {
    "collapsed": false
   },
   "outputs": [
    {
     "name": "stdout",
     "output_type": "stream",
     "text": [
      "2\n",
      "2\n",
      "2\n",
      "-1\n",
      "-1\n"
     ]
    }
   ],
   "source": [
    "for label in df.state.index:\n",
    "    print(df.state[label].find('io'))"
   ]
  },
  {
   "cell_type": "code",
   "execution_count": 80,
   "metadata": {
    "collapsed": false
   },
   "outputs": [
    {
     "name": "stdout",
     "output_type": "stream",
     "text": [
      "Ohio\n",
      "Ohio\n",
      "Ohio\n",
      "Missing\n",
      "Missing\n"
     ]
    }
   ],
   "source": [
    "for label in df.state.index:\n",
    "    if df.state[label]=='Ohio':\n",
    "        print(df.state[label])\n",
    "    else:\n",
    "        print('Missing')"
   ]
  },
  {
   "cell_type": "code",
   "execution_count": 81,
   "metadata": {
    "collapsed": false
   },
   "outputs": [
    {
     "name": "stdout",
     "output_type": "stream",
     "text": [
      "Ohio\n",
      "Ohio\n",
      "Ohio\n"
     ]
    }
   ],
   "source": [
    "for label in df.state.index:\n",
    "    if df.state[label]=='Ohio':\n",
    "        print(df.state[label])\n",
    "    else:\n",
    "        break "
   ]
  },
  {
   "cell_type": "markdown",
   "metadata": {},
   "source": [
    "## Now Your Turn"
   ]
  },
  {
   "cell_type": "markdown",
   "metadata": {},
   "source": [
    "Below are a series of questions, with the answers remaining for you to fill in by using pandas expressions that draw on the methods in Chapter 5.  You should not need to use anything more than the content of this chapter -- a subset of the methods summarized above, to do this exercise.  Hopefully you can complete it within class if you've been keeping up with the reading."
   ]
  },
  {
   "cell_type": "markdown",
   "metadata": {},
   "source": [
    "How can we get a quick statistical profile of all the numeric columns?"
   ]
  },
  {
   "cell_type": "code",
   "execution_count": 82,
   "metadata": {
    "collapsed": false
   },
   "outputs": [
    {
     "data": {
      "text/html": [
       "<div>\n",
       "<table border=\"1\" class=\"dataframe\">\n",
       "  <thead>\n",
       "    <tr style=\"text-align: right;\">\n",
       "      <th></th>\n",
       "      <th>pop</th>\n",
       "      <th>year</th>\n",
       "    </tr>\n",
       "  </thead>\n",
       "  <tbody>\n",
       "    <tr>\n",
       "      <th>count</th>\n",
       "      <td>5.000000</td>\n",
       "      <td>5.00000</td>\n",
       "    </tr>\n",
       "    <tr>\n",
       "      <th>mean</th>\n",
       "      <td>2.420000</td>\n",
       "      <td>2001.20000</td>\n",
       "    </tr>\n",
       "    <tr>\n",
       "      <th>std</th>\n",
       "      <td>0.864292</td>\n",
       "      <td>0.83666</td>\n",
       "    </tr>\n",
       "    <tr>\n",
       "      <th>min</th>\n",
       "      <td>1.500000</td>\n",
       "      <td>2000.00000</td>\n",
       "    </tr>\n",
       "    <tr>\n",
       "      <th>25%</th>\n",
       "      <td>1.700000</td>\n",
       "      <td>2001.00000</td>\n",
       "    </tr>\n",
       "    <tr>\n",
       "      <th>50%</th>\n",
       "      <td>2.400000</td>\n",
       "      <td>2001.00000</td>\n",
       "    </tr>\n",
       "    <tr>\n",
       "      <th>75%</th>\n",
       "      <td>2.900000</td>\n",
       "      <td>2002.00000</td>\n",
       "    </tr>\n",
       "    <tr>\n",
       "      <th>max</th>\n",
       "      <td>3.600000</td>\n",
       "      <td>2002.00000</td>\n",
       "    </tr>\n",
       "  </tbody>\n",
       "</table>\n",
       "</div>"
      ],
      "text/plain": [
       "            pop        year\n",
       "count  5.000000     5.00000\n",
       "mean   2.420000  2001.20000\n",
       "std    0.864292     0.83666\n",
       "min    1.500000  2000.00000\n",
       "25%    1.700000  2001.00000\n",
       "50%    2.400000  2001.00000\n",
       "75%    2.900000  2002.00000\n",
       "max    3.600000  2002.00000"
      ]
     },
     "execution_count": 82,
     "metadata": {},
     "output_type": "execute_result"
    }
   ],
   "source": [
    "df.describe()"
   ]
  },
  {
   "cell_type": "markdown",
   "metadata": {},
   "source": [
    "Can you get a profile of a column that is not numeric, like state? Try it."
   ]
  },
  {
   "cell_type": "code",
   "execution_count": 88,
   "metadata": {
    "collapsed": false
   },
   "outputs": [
    {
     "data": {
      "text/plain": [
       "count        5\n",
       "unique       2\n",
       "top       Ohio\n",
       "freq         3\n",
       "Name: state, dtype: object"
      ]
     },
     "execution_count": 88,
     "metadata": {},
     "output_type": "execute_result"
    }
   ],
   "source": [
    "df['state'].describe()"
   ]
  },
  {
   "cell_type": "markdown",
   "metadata": {},
   "source": [
    "How can we print the data types of each column?"
   ]
  },
  {
   "cell_type": "code",
   "execution_count": 89,
   "metadata": {
    "collapsed": false
   },
   "outputs": [
    {
     "data": {
      "text/plain": [
       "pop      float64\n",
       "state     object\n",
       "year       int64\n",
       "dtype: object"
      ]
     },
     "execution_count": 89,
     "metadata": {},
     "output_type": "execute_result"
    }
   ],
   "source": [
    "df.dtypes"
   ]
  },
  {
   "cell_type": "markdown",
   "metadata": {},
   "source": [
    "How can we print just the column containing state names?"
   ]
  },
  {
   "cell_type": "code",
   "execution_count": 90,
   "metadata": {
    "collapsed": false
   },
   "outputs": [
    {
     "data": {
      "text/plain": [
       "0      Ohio\n",
       "1      Ohio\n",
       "2      Ohio\n",
       "3    Nevada\n",
       "4    Nevada\n",
       "Name: state, dtype: object"
      ]
     },
     "execution_count": 90,
     "metadata": {},
     "output_type": "execute_result"
    }
   ],
   "source": [
    "df['state']"
   ]
  },
  {
   "cell_type": "markdown",
   "metadata": {},
   "source": [
    "How can we get a list of the states in the DataFrame, without duplicates?"
   ]
  },
  {
   "cell_type": "code",
   "execution_count": 93,
   "metadata": {
    "collapsed": false
   },
   "outputs": [
    {
     "data": {
      "text/plain": [
       "0      Ohio\n",
       "3    Nevada\n",
       "Name: state, dtype: object"
      ]
     },
     "execution_count": 93,
     "metadata": {},
     "output_type": "execute_result"
    }
   ],
   "source": [
    "df['state'].drop_duplicates()"
   ]
  },
  {
   "cell_type": "markdown",
   "metadata": {},
   "source": [
    "How can we get a count of how many rows we have in each state?"
   ]
  },
  {
   "cell_type": "code",
   "execution_count": 94,
   "metadata": {
    "collapsed": false
   },
   "outputs": [
    {
     "data": {
      "text/plain": [
       "(5, 3)"
      ]
     },
     "execution_count": 94,
     "metadata": {},
     "output_type": "execute_result"
    }
   ],
   "source": [
    "df.shape"
   ]
  },
  {
   "cell_type": "markdown",
   "metadata": {},
   "source": [
    "How can we compute the mean of population across all the rows?"
   ]
  },
  {
   "cell_type": "code",
   "execution_count": 95,
   "metadata": {
    "collapsed": false
   },
   "outputs": [
    {
     "data": {
      "text/plain": [
       "2.4200000000000004"
      ]
     },
     "execution_count": 95,
     "metadata": {},
     "output_type": "execute_result"
    }
   ],
   "source": [
    "df['pop'].mean()"
   ]
  },
  {
   "cell_type": "markdown",
   "metadata": {},
   "source": [
    "How can we compute the maximum population across all the rows?"
   ]
  },
  {
   "cell_type": "code",
   "execution_count": 96,
   "metadata": {
    "collapsed": false
   },
   "outputs": [
    {
     "data": {
      "text/plain": [
       "3.6000000000000001"
      ]
     },
     "execution_count": 96,
     "metadata": {},
     "output_type": "execute_result"
    }
   ],
   "source": [
    "df['pop'].max()"
   ]
  },
  {
   "cell_type": "markdown",
   "metadata": {},
   "source": [
    "How can we compute the 20th percentile value of population? "
   ]
  },
  {
   "cell_type": "code",
   "execution_count": 99,
   "metadata": {
    "collapsed": false
   },
   "outputs": [
    {
     "data": {
      "text/plain": [
       "1.6600000000000001"
      ]
     },
     "execution_count": 99,
     "metadata": {},
     "output_type": "execute_result"
    }
   ],
   "source": [
    "df['pop'].quantile(.2)"
   ]
  },
  {
   "cell_type": "code",
   "execution_count": 101,
   "metadata": {
    "collapsed": false
   },
   "outputs": [
    {
     "data": {
      "text/plain": [
       "0    0.30\n",
       "1    0.34\n",
       "2    0.72\n",
       "3    0.48\n",
       "4    0.58\n",
       "Name: pop, dtype: float64"
      ]
     },
     "execution_count": 101,
     "metadata": {},
     "output_type": "execute_result"
    }
   ],
   "source": [
    "df['pop'][:5]*.2"
   ]
  },
  {
   "cell_type": "markdown",
   "metadata": {},
   "source": [
    "How can we compute a Boolean array indicating whether the state is 'Ohio'?"
   ]
  },
  {
   "cell_type": "code",
   "execution_count": 112,
   "metadata": {
    "collapsed": false
   },
   "outputs": [
    {
     "data": {
      "text/plain": [
       "0     True\n",
       "1     True\n",
       "2     True\n",
       "3    False\n",
       "4    False\n",
       "Name: state, dtype: bool"
      ]
     },
     "execution_count": 112,
     "metadata": {},
     "output_type": "execute_result"
    }
   ],
   "source": [
    "df['state']=='Ohio'"
   ]
  },
  {
   "cell_type": "markdown",
   "metadata": {},
   "source": [
    "How can we select and print just the rows for Ohio?"
   ]
  },
  {
   "cell_type": "code",
   "execution_count": 111,
   "metadata": {
    "collapsed": false
   },
   "outputs": [
    {
     "name": "stdout",
     "output_type": "stream",
     "text": [
      "   pop state  year\n",
      "0  1.5  Ohio  2000\n",
      "1  1.7  Ohio  2001\n",
      "2  3.6  Ohio  2002\n"
     ]
    }
   ],
   "source": [
    "print(df.loc[df['state']=='Ohio'])\n"
   ]
  },
  {
   "cell_type": "markdown",
   "metadata": {},
   "source": [
    "How can we create a new DataFrame containing only the Ohio records?"
   ]
  },
  {
   "cell_type": "code",
   "execution_count": 115,
   "metadata": {
    "collapsed": false
   },
   "outputs": [
    {
     "data": {
      "text/html": [
       "<div>\n",
       "<table border=\"1\" class=\"dataframe\">\n",
       "  <thead>\n",
       "    <tr style=\"text-align: right;\">\n",
       "      <th></th>\n",
       "      <th>pop</th>\n",
       "      <th>state</th>\n",
       "      <th>year</th>\n",
       "    </tr>\n",
       "  </thead>\n",
       "  <tbody>\n",
       "    <tr>\n",
       "      <th>0</th>\n",
       "      <td>1.5</td>\n",
       "      <td>Ohio</td>\n",
       "      <td>2000</td>\n",
       "    </tr>\n",
       "    <tr>\n",
       "      <th>1</th>\n",
       "      <td>1.7</td>\n",
       "      <td>Ohio</td>\n",
       "      <td>2001</td>\n",
       "    </tr>\n",
       "    <tr>\n",
       "      <th>2</th>\n",
       "      <td>3.6</td>\n",
       "      <td>Ohio</td>\n",
       "      <td>2002</td>\n",
       "    </tr>\n",
       "  </tbody>\n",
       "</table>\n",
       "</div>"
      ],
      "text/plain": [
       "   pop state  year\n",
       "0  1.5  Ohio  2000\n",
       "1  1.7  Ohio  2001\n",
       "2  3.6  Ohio  2002"
      ]
     },
     "execution_count": 115,
     "metadata": {},
     "output_type": "execute_result"
    }
   ],
   "source": [
    "df.loc[df['state']=='Ohio']"
   ]
  },
  {
   "cell_type": "markdown",
   "metadata": {},
   "source": [
    "How can we select and print just the rows in which population is more than 2?"
   ]
  },
  {
   "cell_type": "code",
   "execution_count": 116,
   "metadata": {
    "collapsed": false
   },
   "outputs": [
    {
     "name": "stdout",
     "output_type": "stream",
     "text": [
      "   pop   state  year\n",
      "2  3.6    Ohio  2002\n",
      "3  2.4  Nevada  2001\n",
      "4  2.9  Nevada  2002\n"
     ]
    }
   ],
   "source": [
    "print(df.loc[df['pop']>2])\n",
    "\n"
   ]
  },
  {
   "cell_type": "markdown",
   "metadata": {},
   "source": [
    "How could we compute the mean of population that is in Ohio, averaging across years?"
   ]
  },
  {
   "cell_type": "code",
   "execution_count": 123,
   "metadata": {
    "collapsed": false
   },
   "outputs": [
    {
     "data": {
      "text/plain": [
       "pop        2.266667\n",
       "year    2001.000000\n",
       "dtype: float64"
      ]
     },
     "execution_count": 123,
     "metadata": {},
     "output_type": "execute_result"
    }
   ],
   "source": [
    "df[df['state']=='Ohio'].mean()"
   ]
  },
  {
   "cell_type": "markdown",
   "metadata": {},
   "source": [
    "How can we print the DataFrame, sorted by State and within State, by Population?"
   ]
  },
  {
   "cell_type": "code",
   "execution_count": 126,
   "metadata": {
    "collapsed": false
   },
   "outputs": [
    {
     "name": "stderr",
     "output_type": "stream",
     "text": [
      "/Users/zhengjing/anaconda/lib/python3.5/site-packages/ipykernel/__main__.py:1: FutureWarning: sort(columns=....) is deprecated, use sort_values(by=.....)\n",
      "  if __name__ == '__main__':\n"
     ]
    },
    {
     "data": {
      "text/html": [
       "<div>\n",
       "<table border=\"1\" class=\"dataframe\">\n",
       "  <thead>\n",
       "    <tr style=\"text-align: right;\">\n",
       "      <th></th>\n",
       "      <th>pop</th>\n",
       "      <th>state</th>\n",
       "      <th>year</th>\n",
       "    </tr>\n",
       "  </thead>\n",
       "  <tbody>\n",
       "    <tr>\n",
       "      <th>3</th>\n",
       "      <td>2.4</td>\n",
       "      <td>Nevada</td>\n",
       "      <td>2001</td>\n",
       "    </tr>\n",
       "    <tr>\n",
       "      <th>4</th>\n",
       "      <td>2.9</td>\n",
       "      <td>Nevada</td>\n",
       "      <td>2002</td>\n",
       "    </tr>\n",
       "    <tr>\n",
       "      <th>0</th>\n",
       "      <td>1.5</td>\n",
       "      <td>Ohio</td>\n",
       "      <td>2000</td>\n",
       "    </tr>\n",
       "    <tr>\n",
       "      <th>1</th>\n",
       "      <td>1.7</td>\n",
       "      <td>Ohio</td>\n",
       "      <td>2001</td>\n",
       "    </tr>\n",
       "    <tr>\n",
       "      <th>2</th>\n",
       "      <td>3.6</td>\n",
       "      <td>Ohio</td>\n",
       "      <td>2002</td>\n",
       "    </tr>\n",
       "  </tbody>\n",
       "</table>\n",
       "</div>"
      ],
      "text/plain": [
       "   pop   state  year\n",
       "3  2.4  Nevada  2001\n",
       "4  2.9  Nevada  2002\n",
       "0  1.5    Ohio  2000\n",
       "1  1.7    Ohio  2001\n",
       "2  3.6    Ohio  2002"
      ]
     },
     "execution_count": 126,
     "metadata": {},
     "output_type": "execute_result"
    }
   ],
   "source": [
    "df.sort(['state','pop'])"
   ]
  },
  {
   "cell_type": "markdown",
   "metadata": {},
   "source": [
    "How can we print the row for Ohio, 2002, selecting on its values (not on row and column indexes)?"
   ]
  },
  {
   "cell_type": "code",
   "execution_count": 129,
   "metadata": {
    "collapsed": false
   },
   "outputs": [
    {
     "name": "stdout",
     "output_type": "stream",
     "text": [
      "   pop state  year\n",
      "2  3.6  Ohio  2002\n"
     ]
    }
   ],
   "source": [
    "print(df.loc[df['state']=='Ohio'].loc[df['year']==2002])\n",
    "\n"
   ]
  },
  {
   "cell_type": "markdown",
   "metadata": {},
   "source": [
    "How can we use row and column indexing to set the population of Ohio in 2002 to 3.4?"
   ]
  },
  {
   "cell_type": "code",
   "execution_count": 157,
   "metadata": {
    "collapsed": false
   },
   "outputs": [
    {
     "data": {
      "text/html": [
       "<div>\n",
       "<table border=\"1\" class=\"dataframe\">\n",
       "  <thead>\n",
       "    <tr style=\"text-align: right;\">\n",
       "      <th></th>\n",
       "      <th>pop</th>\n",
       "      <th>state</th>\n",
       "      <th>year</th>\n",
       "    </tr>\n",
       "  </thead>\n",
       "  <tbody>\n",
       "    <tr>\n",
       "      <th>0</th>\n",
       "      <td>3.4</td>\n",
       "      <td>Ohio</td>\n",
       "      <td>2002</td>\n",
       "    </tr>\n",
       "  </tbody>\n",
       "</table>\n",
       "</div>"
      ],
      "text/plain": [
       "   pop state  year\n",
       "0  3.4  Ohio  2002"
      ]
     },
     "execution_count": 157,
     "metadata": {},
     "output_type": "execute_result"
    }
   ],
   "source": [
    "data={'state':['Ohio'],'year':[2002],'pop':[3.4]}\n",
    "df=DataFrame(data)\n",
    "df"
   ]
  },
  {
   "cell_type": "markdown",
   "metadata": {},
   "source": [
    "How can we use row and column indexing to append a new record for Utah, initially with no population or year? "
   ]
  },
  {
   "cell_type": "code",
   "execution_count": 178,
   "metadata": {
    "collapsed": false
   },
   "outputs": [],
   "source": [
    "data = {'state': ['Ohio', 'Ohio', 'Ohio', 'Nevada', 'Nevada'], 'year': [2000, 2001, 2002, 2001, 2002],\n",
    "'pop': [1.5, 1.7, 3.6, 2.4, 2.9]}\n",
    "df = DataFrame(data)\n",
    "\n"
   ]
  },
  {
   "cell_type": "code",
   "execution_count": 183,
   "metadata": {
    "collapsed": false
   },
   "outputs": [
    {
     "data": {
      "text/html": [
       "<div>\n",
       "<table border=\"1\" class=\"dataframe\">\n",
       "  <thead>\n",
       "    <tr style=\"text-align: right;\">\n",
       "      <th></th>\n",
       "      <th>pop</th>\n",
       "      <th>state</th>\n",
       "      <th>year</th>\n",
       "    </tr>\n",
       "  </thead>\n",
       "  <tbody>\n",
       "    <tr>\n",
       "      <th>0</th>\n",
       "      <td>1.5</td>\n",
       "      <td>Ohio</td>\n",
       "      <td>2000</td>\n",
       "    </tr>\n",
       "    <tr>\n",
       "      <th>1</th>\n",
       "      <td>1.7</td>\n",
       "      <td>Ohio</td>\n",
       "      <td>2001</td>\n",
       "    </tr>\n",
       "    <tr>\n",
       "      <th>2</th>\n",
       "      <td>3.6</td>\n",
       "      <td>Ohio</td>\n",
       "      <td>2002</td>\n",
       "    </tr>\n",
       "    <tr>\n",
       "      <th>3</th>\n",
       "      <td>2.4</td>\n",
       "      <td>Nevada</td>\n",
       "      <td>2001</td>\n",
       "    </tr>\n",
       "    <tr>\n",
       "      <th>4</th>\n",
       "      <td>2.9</td>\n",
       "      <td>Nevada</td>\n",
       "      <td>2002</td>\n",
       "    </tr>\n",
       "    <tr>\n",
       "      <th>5</th>\n",
       "      <td>0</td>\n",
       "      <td>Utah</td>\n",
       "      <td>0</td>\n",
       "    </tr>\n",
       "  </tbody>\n",
       "</table>\n",
       "</div>"
      ],
      "text/plain": [
       "   pop   state  year\n",
       "0  1.5    Ohio  2000\n",
       "1  1.7    Ohio  2001\n",
       "2  3.6    Ohio  2002\n",
       "3  2.4  Nevada  2001\n",
       "4  2.9  Nevada  2002\n",
       "5    0    Utah     0"
      ]
     },
     "execution_count": 183,
     "metadata": {},
     "output_type": "execute_result"
    }
   ],
   "source": [
    "df.loc[5]=('0','Utah','0')\n",
    "df"
   ]
  },
  {
   "cell_type": "markdown",
   "metadata": {},
   "source": [
    "How can we set the population to 2.5 and year to 2001 for the new record?"
   ]
  },
  {
   "cell_type": "code",
   "execution_count": 153,
   "metadata": {
    "collapsed": false
   },
   "outputs": [],
   "source": [
    "data = {'state': ['Ohio', 'Ohio', 'Ohio', 'Nevada', 'Nevada'], 'year': [2000, 2001, 2002, 2001, 2002],\n",
    "'pop': [1.5, 1.7, 3.6, 2.4, 2.9]}\n",
    "df = DataFrame(data)\n"
   ]
  },
  {
   "cell_type": "code",
   "execution_count": 156,
   "metadata": {
    "collapsed": false
   },
   "outputs": [
    {
     "data": {
      "text/html": [
       "<div>\n",
       "<table border=\"1\" class=\"dataframe\">\n",
       "  <thead>\n",
       "    <tr style=\"text-align: right;\">\n",
       "      <th></th>\n",
       "      <th>pop</th>\n",
       "      <th>state</th>\n",
       "      <th>year</th>\n",
       "    </tr>\n",
       "  </thead>\n",
       "  <tbody>\n",
       "    <tr>\n",
       "      <th>0</th>\n",
       "      <td>1.5</td>\n",
       "      <td>Ohio</td>\n",
       "      <td>2000</td>\n",
       "    </tr>\n",
       "    <tr>\n",
       "      <th>1</th>\n",
       "      <td>1.7</td>\n",
       "      <td>Ohio</td>\n",
       "      <td>2001</td>\n",
       "    </tr>\n",
       "    <tr>\n",
       "      <th>2</th>\n",
       "      <td>3.6</td>\n",
       "      <td>Ohio</td>\n",
       "      <td>2002</td>\n",
       "    </tr>\n",
       "    <tr>\n",
       "      <th>3</th>\n",
       "      <td>2.4</td>\n",
       "      <td>Nevada</td>\n",
       "      <td>2001</td>\n",
       "    </tr>\n",
       "    <tr>\n",
       "      <th>4</th>\n",
       "      <td>2.9</td>\n",
       "      <td>Nevada</td>\n",
       "      <td>2002</td>\n",
       "    </tr>\n",
       "    <tr>\n",
       "      <th>5</th>\n",
       "      <td>2.5</td>\n",
       "      <td>Utah</td>\n",
       "      <td>2001</td>\n",
       "    </tr>\n",
       "  </tbody>\n",
       "</table>\n",
       "</div>"
      ],
      "text/plain": [
       "   pop   state  year\n",
       "0  1.5    Ohio  2000\n",
       "1  1.7    Ohio  2001\n",
       "2  3.6    Ohio  2002\n",
       "3  2.4  Nevada  2001\n",
       "4  2.9  Nevada  2002\n",
       "5  2.5    Utah  2001"
      ]
     },
     "execution_count": 156,
     "metadata": {},
     "output_type": "execute_result"
    }
   ],
   "source": [
    "df.loc[5]=['2.5','Utah','2001']\n",
    "df"
   ]
  },
  {
   "cell_type": "code",
   "execution_count": null,
   "metadata": {
    "collapsed": true
   },
   "outputs": [],
   "source": []
  }
 ],
 "metadata": {
  "anaconda-cloud": {},
  "kernelspec": {
   "display_name": "Python [conda root]",
   "language": "python",
   "name": "conda-root-py"
  },
  "language_info": {
   "codemirror_mode": {
    "name": "ipython",
    "version": 3
   },
   "file_extension": ".py",
   "mimetype": "text/x-python",
   "name": "python",
   "nbconvert_exporter": "python",
   "pygments_lexer": "ipython3",
   "version": "3.5.2"
  }
 },
 "nbformat": 4,
 "nbformat_minor": 0
}
