{
 "cells": [
  {
   "cell_type": "code",
   "execution_count": null,
   "metadata": {
    "collapsed": true
   },
   "outputs": [],
   "source": [
    "#Create a class called car, with the attributes: color, location (x, y coordinates), and direction.  \n",
    "#Write methods for: go(), turn_left(), and turn_right(). \n",
    "#Add a print() method that prints the current attributes of the car. \n",
    "#Write a script to: \n",
    "#Create a yellow car.  Move the yellow car forward two units, turn left, move forward one space. \n",
    "#Create a green car.  Turn left.  Move forward one space.  Turn right.  Move forward two spaces. \n",
    "#Print both cars.  \n"
   ]
  },
  {
   "cell_type": "code",
   "execution_count": 105,
   "metadata": {
    "collapsed": false
   },
   "outputs": [
    {
     "ename": "SyntaxError",
     "evalue": "invalid syntax (<ipython-input-105-2095cbf566c3>, line 37)",
     "output_type": "error",
     "traceback": [
      "\u001b[0;36m  File \u001b[0;32m\"<ipython-input-105-2095cbf566c3>\"\u001b[0;36m, line \u001b[0;32m37\u001b[0m\n\u001b[0;31m    go()\u001b[0m\n\u001b[0m     ^\u001b[0m\n\u001b[0;31mSyntaxError\u001b[0m\u001b[0;31m:\u001b[0m invalid syntax\n"
     ]
    }
   ],
   "source": [
    "\n",
    "\n",
    "import copy \n",
    "import math\n",
    "\n",
    "class Car :\n",
    "    def __init__(color,location,direction):\n",
    "        self.color=pink\n",
    "        self.location=locaiton\n",
    "        self.direction=direction\n",
    "        \n",
    "#set the arguments for color location and direction\n",
    "    def set_color(self,color):\n",
    "        self.color=color\n",
    "    def set_location(self,locaiton):\n",
    "        self.location=location\n",
    "    def set_direction(self,direction):\n",
    "        self.direction\n",
    "        \n",
    "#the returns for color location and direction        \n",
    "    def get_color(self):\n",
    "        return self.color\n",
    "    def get_location(self):\n",
    "        return self.location\n",
    "    def get_direction(self):\n",
    "        return self.direction\n",
    "    \n",
    "#create car object\n",
    "    def main():\n",
    "        my_car=Car()\n",
    "        \n",
    "        color=print(input('car color: '))\n",
    "        locaiton=print(input('car located at  '))\n",
    "        direction=print(input('car diretion: ')\n",
    "\n",
    "                        \n",
    "go()"
   ]
  },
  {
   "cell_type": "code",
   "execution_count": null,
   "metadata": {
    "collapsed": true
   },
   "outputs": [],
   "source": []
  }
 ],
 "metadata": {
  "kernelspec": {
   "display_name": "Python [conda root]",
   "language": "python",
   "name": "conda-root-py"
  },
  "language_info": {
   "codemirror_mode": {
    "name": "ipython",
    "version": 3
   },
   "file_extension": ".py",
   "mimetype": "text/x-python",
   "name": "python",
   "nbconvert_exporter": "python",
   "pygments_lexer": "ipython3",
   "version": "3.5.2"
  }
 },
 "nbformat": 4,
 "nbformat_minor": 1
}
